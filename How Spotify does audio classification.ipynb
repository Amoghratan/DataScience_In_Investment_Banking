{
 "cells": [
  {
   "cell_type": "markdown",
   "metadata": {},
   "source": [
    "# Music Genre Classification using ML techniques\n",
    "\n",
    "I am a big fan of music and a big time Spotify user. I like all kind of music Blues, R&B, Country, EDM etc. My all time favourites are BB king, Eric Clapton, in bands I like Pink Floyd, Led Zepplin, it's a big list. I always wondered how Spotify music suggestion works. I was pretty much sure that they are certainly using Machine Learning for music suggestion but I want to understand what are the feature variables they are using. I took this course online on Data Camp which was very helpful in understanding implementaion of ML for a compete new industry. \n",
    "\n",
    "Link to Project is here : https://projects.datacamp.com/projects/449, I will suggest anyone who is interested in music industry to take this course\n",
    "\n",
    "I made a lot of add-ons in the project to do some more analysis. \n",
    "\n",
    "You can download data sets here : \n",
    "Echonest Metrics : https://bit.ly/2HTZmAh<br>\n",
    "FMA Rock Vs HipHop : https://bit.ly/2Qkdy9d\n",
    "\n"
   ]
  },
  {
   "cell_type": "markdown",
   "metadata": {},
   "source": [
    "## Feature Set of Sounds\n",
    "\n",
    "Sound is an audio signal which have parametes like banwidth, amplitude, frequency, energy & frequency. A very basic audio signal can be sumarised with below image "
   ]
  },
  {
   "cell_type": "code",
   "execution_count": 1,
   "metadata": {},
   "outputs": [
    {
     "data": {
      "text/html": [
       "<img src=\"data/Sound Char.png\" width=\"500\" height=\"400\"/>"
      ],
      "text/plain": [
       "<IPython.core.display.Image object>"
      ]
     },
     "execution_count": 1,
     "metadata": {},
     "output_type": "execute_result"
    }
   ],
   "source": [
    "from IPython.display import Image\n",
    "from IPython.core.display import HTML \n",
    "Image(url= \"data/Sound Char.png\",width=500, height=400)\n",
    "\n",
    "# Image Source : https://bit.ly/2W5PmOl"
   ]
  },
  {
   "cell_type": "markdown",
   "metadata": {},
   "source": [
    "List of Features that we have \n",
    "<ul>\n",
    "    <li><b>Acousticness</b> - Pertaining to the sense or organs of hearing, to sound, or to the science of sound.</li>\n",
    "    <li>Danceability </li>\n",
    "    <li>Energy</li>\n",
    "    <li>Instrumentalness</li>\n",
    "    <li>Liveness</li>\n",
    "    <li>Speechiness</li>\n",
    "    <li>Tempo</li>\n",
    "    <li><b>Valence</b> - Valence, as used in psychology, especially in discussing emotions, means the intrinsic attractiveness/\"good\"-ness (positive valence) or averseness/\"bad\"-ness (negative valence) of an event, object, or situation</li></ul>"
   ]
  },
  {
   "cell_type": "markdown",
   "metadata": {},
   "source": [
    "## Exploring the data sets"
   ]
  },
  {
   "cell_type": "code",
   "execution_count": 3,
   "metadata": {},
   "outputs": [
    {
     "name": "stdout",
     "output_type": "stream",
     "text": [
      "Tracks Dataset\n",
      "['track_id', 'bit_rate', 'comments', 'composer', 'date_created', 'date_recorded', 'duration', 'favorites', 'genre_top', 'genres', 'genres_all', 'information', 'interest', 'language_code', 'license', 'listens', 'lyricist', 'number', 'publisher', 'tags', 'title']\n",
      "\n",
      "************\n",
      "Echonest Metrics\n",
      "['track_id', 'acousticness', 'danceability', 'energy', 'instrumentalness', 'liveness', 'speechiness', 'tempo', 'valence']\n",
      "\n",
      "************\n",
      "Combined Datasets information\n",
      "<class 'pandas.core.frame.DataFrame'>\n",
      "Int64Index: 4802 entries, 0 to 4801\n",
      "Data columns (total 10 columns):\n",
      "track_id            4802 non-null int64\n",
      "acousticness        4802 non-null float64\n",
      "danceability        4802 non-null float64\n",
      "energy              4802 non-null float64\n",
      "instrumentalness    4802 non-null float64\n",
      "liveness            4802 non-null float64\n",
      "speechiness         4802 non-null float64\n",
      "tempo               4802 non-null float64\n",
      "valence             4802 non-null float64\n",
      "genre_top           4802 non-null object\n",
      "dtypes: float64(8), int64(1), object(1)\n",
      "memory usage: 412.7+ KB\n",
      "None\n",
      "(4802, 10)\n"
     ]
    }
   ],
   "source": [
    "import pandas as pd\n",
    "from sklearn.preprocessing import StandardScaler\n",
    "from matplotlib import pyplot as plt\n",
    "\n",
    "# Read in track metadata with genre labels\n",
    "print(\"Tracks Dataset\")\n",
    "tracks = pd.read_csv(\"data/fma-rock-vs-hiphop.csv\")\n",
    "print(list(tracks))\n",
    "\n",
    "print()\n",
    "print(\"************\")\n",
    "# Read in track metrics with the features\n",
    "echonest_metrics =  pd.read_json(\"data/echonest-metrics.json\",precise_float=True)\n",
    "print(\"Echonest Metrics\")\n",
    "print(list(echonest_metrics))\n",
    "\n",
    "# Merge the relevant columns of tracks and echonest_metrics\n",
    "echo_tracks =  echonest_metrics.merge(tracks[['track_id','genre_top']],on='track_id')\n",
    "print()\n",
    "print(\"************\")\n",
    "print(\"Combined Datasets information\")\n",
    "# Inspect the resultant dataframe\n",
    "print(echo_tracks.info())\n",
    "print(echo_tracks.shape)"
   ]
  },
  {
   "cell_type": "markdown",
   "metadata": {},
   "source": [
    "## Check for Correlation\n",
    "\n",
    "We will remove the features from the data set which are highly correlated because of two reasons.<br> \n",
    "1) Redundancy cause the model to overfit <br>\n",
    "2) More the features more complex our model is"
   ]
  },
  {
   "cell_type": "code",
   "execution_count": 4,
   "metadata": {},
   "outputs": [
    {
     "name": "stdout",
     "output_type": "stream",
     "text": [
      "No such strong relation exsists between 2 features\n"
     ]
    },
    {
     "data": {
      "text/html": [
       "<style  type=\"text/css\" >\n",
       "    #T_bf905d1c_8372_11e9_ab9e_c4b301a6969crow0_col0 {\n",
       "            background-color:  #023858;\n",
       "            color:  #f1f1f1;\n",
       "        }    #T_bf905d1c_8372_11e9_ab9e_c4b301a6969crow0_col1 {\n",
       "            background-color:  #fff7fb;\n",
       "            color:  #000000;\n",
       "        }    #T_bf905d1c_8372_11e9_ab9e_c4b301a6969crow0_col2 {\n",
       "            background-color:  #d2d2e7;\n",
       "            color:  #000000;\n",
       "        }    #T_bf905d1c_8372_11e9_ab9e_c4b301a6969crow0_col3 {\n",
       "            background-color:  #b5c4df;\n",
       "            color:  #000000;\n",
       "        }    #T_bf905d1c_8372_11e9_ab9e_c4b301a6969crow0_col4 {\n",
       "            background-color:  #f5eef6;\n",
       "            color:  #000000;\n",
       "        }    #T_bf905d1c_8372_11e9_ab9e_c4b301a6969crow0_col5 {\n",
       "            background-color:  #e9e5f1;\n",
       "            color:  #000000;\n",
       "        }    #T_bf905d1c_8372_11e9_ab9e_c4b301a6969crow0_col6 {\n",
       "            background-color:  #d1d2e6;\n",
       "            color:  #000000;\n",
       "        }    #T_bf905d1c_8372_11e9_ab9e_c4b301a6969crow0_col7 {\n",
       "            background-color:  #e1dfed;\n",
       "            color:  #000000;\n",
       "        }    #T_bf905d1c_8372_11e9_ab9e_c4b301a6969crow0_col8 {\n",
       "            background-color:  #dedcec;\n",
       "            color:  #000000;\n",
       "        }    #T_bf905d1c_8372_11e9_ab9e_c4b301a6969crow1_col0 {\n",
       "            background-color:  #fff7fb;\n",
       "            color:  #000000;\n",
       "        }    #T_bf905d1c_8372_11e9_ab9e_c4b301a6969crow1_col1 {\n",
       "            background-color:  #023858;\n",
       "            color:  #f1f1f1;\n",
       "        }    #T_bf905d1c_8372_11e9_ab9e_c4b301a6969crow1_col2 {\n",
       "            background-color:  #e0dded;\n",
       "            color:  #000000;\n",
       "        }    #T_bf905d1c_8372_11e9_ab9e_c4b301a6969crow1_col3 {\n",
       "            background-color:  #fff7fb;\n",
       "            color:  #000000;\n",
       "        }    #T_bf905d1c_8372_11e9_ab9e_c4b301a6969crow1_col4 {\n",
       "            background-color:  #97b7d7;\n",
       "            color:  #000000;\n",
       "        }    #T_bf905d1c_8372_11e9_ab9e_c4b301a6969crow1_col5 {\n",
       "            background-color:  #f3edf5;\n",
       "            color:  #000000;\n",
       "        }    #T_bf905d1c_8372_11e9_ab9e_c4b301a6969crow1_col6 {\n",
       "            background-color:  #b8c6e0;\n",
       "            color:  #000000;\n",
       "        }    #T_bf905d1c_8372_11e9_ab9e_c4b301a6969crow1_col7 {\n",
       "            background-color:  #e1dfed;\n",
       "            color:  #000000;\n",
       "        }    #T_bf905d1c_8372_11e9_ab9e_c4b301a6969crow1_col8 {\n",
       "            background-color:  #e2dfee;\n",
       "            color:  #000000;\n",
       "        }    #T_bf905d1c_8372_11e9_ab9e_c4b301a6969crow2_col0 {\n",
       "            background-color:  #bdc8e1;\n",
       "            color:  #000000;\n",
       "        }    #T_bf905d1c_8372_11e9_ab9e_c4b301a6969crow2_col1 {\n",
       "            background-color:  #d0d1e6;\n",
       "            color:  #000000;\n",
       "        }    #T_bf905d1c_8372_11e9_ab9e_c4b301a6969crow2_col2 {\n",
       "            background-color:  #023858;\n",
       "            color:  #f1f1f1;\n",
       "        }    #T_bf905d1c_8372_11e9_ab9e_c4b301a6969crow2_col3 {\n",
       "            background-color:  #fbf3f9;\n",
       "            color:  #000000;\n",
       "        }    #T_bf905d1c_8372_11e9_ab9e_c4b301a6969crow2_col4 {\n",
       "            background-color:  #f3edf5;\n",
       "            color:  #000000;\n",
       "        }    #T_bf905d1c_8372_11e9_ab9e_c4b301a6969crow2_col5 {\n",
       "            background-color:  #fff7fb;\n",
       "            color:  #000000;\n",
       "        }    #T_bf905d1c_8372_11e9_ab9e_c4b301a6969crow2_col6 {\n",
       "            background-color:  #80aed2;\n",
       "            color:  #000000;\n",
       "        }    #T_bf905d1c_8372_11e9_ab9e_c4b301a6969crow2_col7 {\n",
       "            background-color:  #fff7fb;\n",
       "            color:  #000000;\n",
       "        }    #T_bf905d1c_8372_11e9_ab9e_c4b301a6969crow2_col8 {\n",
       "            background-color:  #529bc7;\n",
       "            color:  #000000;\n",
       "        }    #T_bf905d1c_8372_11e9_ab9e_c4b301a6969crow3_col0 {\n",
       "            background-color:  #a7bddb;\n",
       "            color:  #000000;\n",
       "        }    #T_bf905d1c_8372_11e9_ab9e_c4b301a6969crow3_col1 {\n",
       "            background-color:  #f5eff6;\n",
       "            color:  #000000;\n",
       "        }    #T_bf905d1c_8372_11e9_ab9e_c4b301a6969crow3_col2 {\n",
       "            background-color:  #fef6fa;\n",
       "            color:  #000000;\n",
       "        }    #T_bf905d1c_8372_11e9_ab9e_c4b301a6969crow3_col3 {\n",
       "            background-color:  #023858;\n",
       "            color:  #f1f1f1;\n",
       "        }    #T_bf905d1c_8372_11e9_ab9e_c4b301a6969crow3_col4 {\n",
       "            background-color:  #c4cbe3;\n",
       "            color:  #000000;\n",
       "        }    #T_bf905d1c_8372_11e9_ab9e_c4b301a6969crow3_col5 {\n",
       "            background-color:  #dcdaeb;\n",
       "            color:  #000000;\n",
       "        }    #T_bf905d1c_8372_11e9_ab9e_c4b301a6969crow3_col6 {\n",
       "            background-color:  #dedcec;\n",
       "            color:  #000000;\n",
       "        }    #T_bf905d1c_8372_11e9_ab9e_c4b301a6969crow3_col7 {\n",
       "            background-color:  #adc1dd;\n",
       "            color:  #000000;\n",
       "        }    #T_bf905d1c_8372_11e9_ab9e_c4b301a6969crow3_col8 {\n",
       "            background-color:  #d9d8ea;\n",
       "            color:  #000000;\n",
       "        }    #T_bf905d1c_8372_11e9_ab9e_c4b301a6969crow4_col0 {\n",
       "            background-color:  #f4eef6;\n",
       "            color:  #000000;\n",
       "        }    #T_bf905d1c_8372_11e9_ab9e_c4b301a6969crow4_col1 {\n",
       "            background-color:  #97b7d7;\n",
       "            color:  #000000;\n",
       "        }    #T_bf905d1c_8372_11e9_ab9e_c4b301a6969crow4_col2 {\n",
       "            background-color:  #fff7fb;\n",
       "            color:  #000000;\n",
       "        }    #T_bf905d1c_8372_11e9_ab9e_c4b301a6969crow4_col3 {\n",
       "            background-color:  #d2d3e7;\n",
       "            color:  #000000;\n",
       "        }    #T_bf905d1c_8372_11e9_ab9e_c4b301a6969crow4_col4 {\n",
       "            background-color:  #023858;\n",
       "            color:  #f1f1f1;\n",
       "        }    #T_bf905d1c_8372_11e9_ab9e_c4b301a6969crow4_col5 {\n",
       "            background-color:  #fdf5fa;\n",
       "            color:  #000000;\n",
       "        }    #T_bf905d1c_8372_11e9_ab9e_c4b301a6969crow4_col6 {\n",
       "            background-color:  #fff7fb;\n",
       "            color:  #000000;\n",
       "        }    #T_bf905d1c_8372_11e9_ab9e_c4b301a6969crow4_col7 {\n",
       "            background-color:  #d9d8ea;\n",
       "            color:  #000000;\n",
       "        }    #T_bf905d1c_8372_11e9_ab9e_c4b301a6969crow4_col8 {\n",
       "            background-color:  #fff7fb;\n",
       "            color:  #000000;\n",
       "        }    #T_bf905d1c_8372_11e9_ab9e_c4b301a6969crow5_col0 {\n",
       "            background-color:  #bdc8e1;\n",
       "            color:  #000000;\n",
       "        }    #T_bf905d1c_8372_11e9_ab9e_c4b301a6969crow5_col1 {\n",
       "            background-color:  #ced0e6;\n",
       "            color:  #000000;\n",
       "        }    #T_bf905d1c_8372_11e9_ab9e_c4b301a6969crow5_col2 {\n",
       "            background-color:  #ede8f3;\n",
       "            color:  #000000;\n",
       "        }    #T_bf905d1c_8372_11e9_ab9e_c4b301a6969crow5_col3 {\n",
       "            background-color:  #bdc8e1;\n",
       "            color:  #000000;\n",
       "        }    #T_bf905d1c_8372_11e9_ab9e_c4b301a6969crow5_col4 {\n",
       "            background-color:  #dbdaeb;\n",
       "            color:  #000000;\n",
       "        }    #T_bf905d1c_8372_11e9_ab9e_c4b301a6969crow5_col5 {\n",
       "            background-color:  #023858;\n",
       "            color:  #f1f1f1;\n",
       "        }    #T_bf905d1c_8372_11e9_ab9e_c4b301a6969crow5_col6 {\n",
       "            background-color:  #c0c9e2;\n",
       "            color:  #000000;\n",
       "        }    #T_bf905d1c_8372_11e9_ab9e_c4b301a6969crow5_col7 {\n",
       "            background-color:  #dcdaeb;\n",
       "            color:  #000000;\n",
       "        }    #T_bf905d1c_8372_11e9_ab9e_c4b301a6969crow5_col8 {\n",
       "            background-color:  #e8e4f0;\n",
       "            color:  #000000;\n",
       "        }    #T_bf905d1c_8372_11e9_ab9e_c4b301a6969crow6_col0 {\n",
       "            background-color:  #d0d1e6;\n",
       "            color:  #000000;\n",
       "        }    #T_bf905d1c_8372_11e9_ab9e_c4b301a6969crow6_col1 {\n",
       "            background-color:  #b8c6e0;\n",
       "            color:  #000000;\n",
       "        }    #T_bf905d1c_8372_11e9_ab9e_c4b301a6969crow6_col2 {\n",
       "            background-color:  #93b5d6;\n",
       "            color:  #000000;\n",
       "        }    #T_bf905d1c_8372_11e9_ab9e_c4b301a6969crow6_col3 {\n",
       "            background-color:  #eae6f1;\n",
       "            color:  #000000;\n",
       "        }    #T_bf905d1c_8372_11e9_ab9e_c4b301a6969crow6_col4 {\n",
       "            background-color:  #fff7fb;\n",
       "            color:  #000000;\n",
       "        }    #T_bf905d1c_8372_11e9_ab9e_c4b301a6969crow6_col5 {\n",
       "            background-color:  #eae6f1;\n",
       "            color:  #000000;\n",
       "        }    #T_bf905d1c_8372_11e9_ab9e_c4b301a6969crow6_col6 {\n",
       "            background-color:  #023858;\n",
       "            color:  #f1f1f1;\n",
       "        }    #T_bf905d1c_8372_11e9_ab9e_c4b301a6969crow6_col7 {\n",
       "            background-color:  #dbdaeb;\n",
       "            color:  #000000;\n",
       "        }    #T_bf905d1c_8372_11e9_ab9e_c4b301a6969crow6_col8 {\n",
       "            background-color:  #bfc9e1;\n",
       "            color:  #000000;\n",
       "        }    #T_bf905d1c_8372_11e9_ab9e_c4b301a6969crow7_col0 {\n",
       "            background-color:  #d0d1e6;\n",
       "            color:  #000000;\n",
       "        }    #T_bf905d1c_8372_11e9_ab9e_c4b301a6969crow7_col1 {\n",
       "            background-color:  #d0d1e6;\n",
       "            color:  #000000;\n",
       "        }    #T_bf905d1c_8372_11e9_ab9e_c4b301a6969crow7_col2 {\n",
       "            background-color:  #fef6fa;\n",
       "            color:  #000000;\n",
       "        }    #T_bf905d1c_8372_11e9_ab9e_c4b301a6969crow7_col3 {\n",
       "            background-color:  #a7bddb;\n",
       "            color:  #000000;\n",
       "        }    #T_bf905d1c_8372_11e9_ab9e_c4b301a6969crow7_col4 {\n",
       "            background-color:  #c5cce3;\n",
       "            color:  #000000;\n",
       "        }    #T_bf905d1c_8372_11e9_ab9e_c4b301a6969crow7_col5 {\n",
       "            background-color:  #f0eaf4;\n",
       "            color:  #000000;\n",
       "        }    #T_bf905d1c_8372_11e9_ab9e_c4b301a6969crow7_col6 {\n",
       "            background-color:  #c8cde4;\n",
       "            color:  #000000;\n",
       "        }    #T_bf905d1c_8372_11e9_ab9e_c4b301a6969crow7_col7 {\n",
       "            background-color:  #023858;\n",
       "            color:  #f1f1f1;\n",
       "        }    #T_bf905d1c_8372_11e9_ab9e_c4b301a6969crow7_col8 {\n",
       "            background-color:  #d6d6e9;\n",
       "            color:  #000000;\n",
       "        }    #T_bf905d1c_8372_11e9_ab9e_c4b301a6969crow8_col0 {\n",
       "            background-color:  #c6cce3;\n",
       "            color:  #000000;\n",
       "        }    #T_bf905d1c_8372_11e9_ab9e_c4b301a6969crow8_col1 {\n",
       "            background-color:  #cdd0e5;\n",
       "            color:  #000000;\n",
       "        }    #T_bf905d1c_8372_11e9_ab9e_c4b301a6969crow8_col2 {\n",
       "            background-color:  #4c99c5;\n",
       "            color:  #000000;\n",
       "        }    #T_bf905d1c_8372_11e9_ab9e_c4b301a6969crow8_col3 {\n",
       "            background-color:  #d1d2e6;\n",
       "            color:  #000000;\n",
       "        }    #T_bf905d1c_8372_11e9_ab9e_c4b301a6969crow8_col4 {\n",
       "            background-color:  #efe9f3;\n",
       "            color:  #000000;\n",
       "        }    #T_bf905d1c_8372_11e9_ab9e_c4b301a6969crow8_col5 {\n",
       "            background-color:  #f7f0f7;\n",
       "            color:  #000000;\n",
       "        }    #T_bf905d1c_8372_11e9_ab9e_c4b301a6969crow8_col6 {\n",
       "            background-color:  #a5bddb;\n",
       "            color:  #000000;\n",
       "        }    #T_bf905d1c_8372_11e9_ab9e_c4b301a6969crow8_col7 {\n",
       "            background-color:  #d3d4e7;\n",
       "            color:  #000000;\n",
       "        }    #T_bf905d1c_8372_11e9_ab9e_c4b301a6969crow8_col8 {\n",
       "            background-color:  #023858;\n",
       "            color:  #f1f1f1;\n",
       "        }</style><table id=\"T_bf905d1c_8372_11e9_ab9e_c4b301a6969c\" ><thead>    <tr>        <th class=\"blank level0\" ></th>        <th class=\"col_heading level0 col0\" >track_id</th>        <th class=\"col_heading level0 col1\" >acousticness</th>        <th class=\"col_heading level0 col2\" >danceability</th>        <th class=\"col_heading level0 col3\" >energy</th>        <th class=\"col_heading level0 col4\" >instrumentalness</th>        <th class=\"col_heading level0 col5\" >liveness</th>        <th class=\"col_heading level0 col6\" >speechiness</th>        <th class=\"col_heading level0 col7\" >tempo</th>        <th class=\"col_heading level0 col8\" >valence</th>    </tr></thead><tbody>\n",
       "                <tr>\n",
       "                        <th id=\"T_bf905d1c_8372_11e9_ab9e_c4b301a6969clevel0_row0\" class=\"row_heading level0 row0\" >track_id</th>\n",
       "                        <td id=\"T_bf905d1c_8372_11e9_ab9e_c4b301a6969crow0_col0\" class=\"data row0 col0\" >1</td>\n",
       "                        <td id=\"T_bf905d1c_8372_11e9_ab9e_c4b301a6969crow0_col1\" class=\"data row0 col1\" >-0.372282</td>\n",
       "                        <td id=\"T_bf905d1c_8372_11e9_ab9e_c4b301a6969crow0_col2\" class=\"data row0 col2\" >0.0494541</td>\n",
       "                        <td id=\"T_bf905d1c_8372_11e9_ab9e_c4b301a6969crow0_col3\" class=\"data row0 col3\" >0.140703</td>\n",
       "                        <td id=\"T_bf905d1c_8372_11e9_ab9e_c4b301a6969crow0_col4\" class=\"data row0 col4\" >-0.275623</td>\n",
       "                        <td id=\"T_bf905d1c_8372_11e9_ab9e_c4b301a6969crow0_col5\" class=\"data row0 col5\" >0.0482307</td>\n",
       "                        <td id=\"T_bf905d1c_8372_11e9_ab9e_c4b301a6969crow0_col6\" class=\"data row0 col6\" >-0.0269951</td>\n",
       "                        <td id=\"T_bf905d1c_8372_11e9_ab9e_c4b301a6969crow0_col7\" class=\"data row0 col7\" >-0.0253918</td>\n",
       "                        <td id=\"T_bf905d1c_8372_11e9_ab9e_c4b301a6969crow0_col8\" class=\"data row0 col8\" >0.0100698</td>\n",
       "            </tr>\n",
       "            <tr>\n",
       "                        <th id=\"T_bf905d1c_8372_11e9_ab9e_c4b301a6969clevel0_row1\" class=\"row_heading level0 row1\" >acousticness</th>\n",
       "                        <td id=\"T_bf905d1c_8372_11e9_ab9e_c4b301a6969crow1_col0\" class=\"data row1 col0\" >-0.372282</td>\n",
       "                        <td id=\"T_bf905d1c_8372_11e9_ab9e_c4b301a6969crow1_col1\" class=\"data row1 col1\" >1</td>\n",
       "                        <td id=\"T_bf905d1c_8372_11e9_ab9e_c4b301a6969crow1_col2\" class=\"data row1 col2\" >-0.0289537</td>\n",
       "                        <td id=\"T_bf905d1c_8372_11e9_ab9e_c4b301a6969crow1_col3\" class=\"data row1 col3\" >-0.281619</td>\n",
       "                        <td id=\"T_bf905d1c_8372_11e9_ab9e_c4b301a6969crow1_col4\" class=\"data row1 col4\" >0.19478</td>\n",
       "                        <td id=\"T_bf905d1c_8372_11e9_ab9e_c4b301a6969crow1_col5\" class=\"data row1 col5\" >-0.0199914</td>\n",
       "                        <td id=\"T_bf905d1c_8372_11e9_ab9e_c4b301a6969crow1_col6\" class=\"data row1 col6\" >0.072204</td>\n",
       "                        <td id=\"T_bf905d1c_8372_11e9_ab9e_c4b301a6969crow1_col7\" class=\"data row1 col7\" >-0.0263097</td>\n",
       "                        <td id=\"T_bf905d1c_8372_11e9_ab9e_c4b301a6969crow1_col8\" class=\"data row1 col8\" >-0.0138406</td>\n",
       "            </tr>\n",
       "            <tr>\n",
       "                        <th id=\"T_bf905d1c_8372_11e9_ab9e_c4b301a6969clevel0_row2\" class=\"row_heading level0 row2\" >danceability</th>\n",
       "                        <td id=\"T_bf905d1c_8372_11e9_ab9e_c4b301a6969crow2_col0\" class=\"data row2 col0\" >0.0494541</td>\n",
       "                        <td id=\"T_bf905d1c_8372_11e9_ab9e_c4b301a6969crow2_col1\" class=\"data row2 col1\" >-0.0289537</td>\n",
       "                        <td id=\"T_bf905d1c_8372_11e9_ab9e_c4b301a6969crow2_col2\" class=\"data row2 col2\" >1</td>\n",
       "                        <td id=\"T_bf905d1c_8372_11e9_ab9e_c4b301a6969crow2_col3\" class=\"data row2 col3\" >-0.242032</td>\n",
       "                        <td id=\"T_bf905d1c_8372_11e9_ab9e_c4b301a6969crow2_col4\" class=\"data row2 col4\" >-0.255217</td>\n",
       "                        <td id=\"T_bf905d1c_8372_11e9_ab9e_c4b301a6969crow2_col5\" class=\"data row2 col5\" >-0.106584</td>\n",
       "                        <td id=\"T_bf905d1c_8372_11e9_ab9e_c4b301a6969crow2_col6\" class=\"data row2 col6\" >0.276206</td>\n",
       "                        <td id=\"T_bf905d1c_8372_11e9_ab9e_c4b301a6969crow2_col7\" class=\"data row2 col7\" >-0.242089</td>\n",
       "                        <td id=\"T_bf905d1c_8372_11e9_ab9e_c4b301a6969crow2_col8\" class=\"data row2 col8\" >0.473165</td>\n",
       "            </tr>\n",
       "            <tr>\n",
       "                        <th id=\"T_bf905d1c_8372_11e9_ab9e_c4b301a6969clevel0_row3\" class=\"row_heading level0 row3\" >energy</th>\n",
       "                        <td id=\"T_bf905d1c_8372_11e9_ab9e_c4b301a6969crow3_col0\" class=\"data row3 col0\" >0.140703</td>\n",
       "                        <td id=\"T_bf905d1c_8372_11e9_ab9e_c4b301a6969crow3_col1\" class=\"data row3 col1\" >-0.281619</td>\n",
       "                        <td id=\"T_bf905d1c_8372_11e9_ab9e_c4b301a6969crow3_col2\" class=\"data row3 col2\" >-0.242032</td>\n",
       "                        <td id=\"T_bf905d1c_8372_11e9_ab9e_c4b301a6969crow3_col3\" class=\"data row3 col3\" >1</td>\n",
       "                        <td id=\"T_bf905d1c_8372_11e9_ab9e_c4b301a6969crow3_col4\" class=\"data row3 col4\" >0.0282377</td>\n",
       "                        <td id=\"T_bf905d1c_8372_11e9_ab9e_c4b301a6969crow3_col5\" class=\"data row3 col5\" >0.113331</td>\n",
       "                        <td id=\"T_bf905d1c_8372_11e9_ab9e_c4b301a6969crow3_col6\" class=\"data row3 col6\" >-0.109983</td>\n",
       "                        <td id=\"T_bf905d1c_8372_11e9_ab9e_c4b301a6969crow3_col7\" class=\"data row3 col7\" >0.195227</td>\n",
       "                        <td id=\"T_bf905d1c_8372_11e9_ab9e_c4b301a6969crow3_col8\" class=\"data row3 col8\" >0.0386027</td>\n",
       "            </tr>\n",
       "            <tr>\n",
       "                        <th id=\"T_bf905d1c_8372_11e9_ab9e_c4b301a6969clevel0_row4\" class=\"row_heading level0 row4\" >instrumentalness</th>\n",
       "                        <td id=\"T_bf905d1c_8372_11e9_ab9e_c4b301a6969crow4_col0\" class=\"data row4 col0\" >-0.275623</td>\n",
       "                        <td id=\"T_bf905d1c_8372_11e9_ab9e_c4b301a6969crow4_col1\" class=\"data row4 col1\" >0.19478</td>\n",
       "                        <td id=\"T_bf905d1c_8372_11e9_ab9e_c4b301a6969crow4_col2\" class=\"data row4 col2\" >-0.255217</td>\n",
       "                        <td id=\"T_bf905d1c_8372_11e9_ab9e_c4b301a6969crow4_col3\" class=\"data row4 col3\" >0.0282377</td>\n",
       "                        <td id=\"T_bf905d1c_8372_11e9_ab9e_c4b301a6969crow4_col4\" class=\"data row4 col4\" >1</td>\n",
       "                        <td id=\"T_bf905d1c_8372_11e9_ab9e_c4b301a6969crow4_col5\" class=\"data row4 col5\" >-0.0910218</td>\n",
       "                        <td id=\"T_bf905d1c_8372_11e9_ab9e_c4b301a6969crow4_col6\" class=\"data row4 col6\" >-0.366762</td>\n",
       "                        <td id=\"T_bf905d1c_8372_11e9_ab9e_c4b301a6969crow4_col7\" class=\"data row4 col7\" >0.022215</td>\n",
       "                        <td id=\"T_bf905d1c_8372_11e9_ab9e_c4b301a6969crow4_col8\" class=\"data row4 col8\" >-0.219967</td>\n",
       "            </tr>\n",
       "            <tr>\n",
       "                        <th id=\"T_bf905d1c_8372_11e9_ab9e_c4b301a6969clevel0_row5\" class=\"row_heading level0 row5\" >liveness</th>\n",
       "                        <td id=\"T_bf905d1c_8372_11e9_ab9e_c4b301a6969crow5_col0\" class=\"data row5 col0\" >0.0482307</td>\n",
       "                        <td id=\"T_bf905d1c_8372_11e9_ab9e_c4b301a6969crow5_col1\" class=\"data row5 col1\" >-0.0199914</td>\n",
       "                        <td id=\"T_bf905d1c_8372_11e9_ab9e_c4b301a6969crow5_col2\" class=\"data row5 col2\" >-0.106584</td>\n",
       "                        <td id=\"T_bf905d1c_8372_11e9_ab9e_c4b301a6969crow5_col3\" class=\"data row5 col3\" >0.113331</td>\n",
       "                        <td id=\"T_bf905d1c_8372_11e9_ab9e_c4b301a6969crow5_col4\" class=\"data row5 col4\" >-0.0910218</td>\n",
       "                        <td id=\"T_bf905d1c_8372_11e9_ab9e_c4b301a6969crow5_col5\" class=\"data row5 col5\" >1</td>\n",
       "                        <td id=\"T_bf905d1c_8372_11e9_ab9e_c4b301a6969crow5_col6\" class=\"data row5 col6\" >0.0411725</td>\n",
       "                        <td id=\"T_bf905d1c_8372_11e9_ab9e_c4b301a6969crow5_col7\" class=\"data row5 col7\" >0.00273169</td>\n",
       "                        <td id=\"T_bf905d1c_8372_11e9_ab9e_c4b301a6969crow5_col8\" class=\"data row5 col8\" >-0.0450931</td>\n",
       "            </tr>\n",
       "            <tr>\n",
       "                        <th id=\"T_bf905d1c_8372_11e9_ab9e_c4b301a6969clevel0_row6\" class=\"row_heading level0 row6\" >speechiness</th>\n",
       "                        <td id=\"T_bf905d1c_8372_11e9_ab9e_c4b301a6969crow6_col0\" class=\"data row6 col0\" >-0.0269951</td>\n",
       "                        <td id=\"T_bf905d1c_8372_11e9_ab9e_c4b301a6969crow6_col1\" class=\"data row6 col1\" >0.072204</td>\n",
       "                        <td id=\"T_bf905d1c_8372_11e9_ab9e_c4b301a6969crow6_col2\" class=\"data row6 col2\" >0.276206</td>\n",
       "                        <td id=\"T_bf905d1c_8372_11e9_ab9e_c4b301a6969crow6_col3\" class=\"data row6 col3\" >-0.109983</td>\n",
       "                        <td id=\"T_bf905d1c_8372_11e9_ab9e_c4b301a6969crow6_col4\" class=\"data row6 col4\" >-0.366762</td>\n",
       "                        <td id=\"T_bf905d1c_8372_11e9_ab9e_c4b301a6969crow6_col5\" class=\"data row6 col5\" >0.0411725</td>\n",
       "                        <td id=\"T_bf905d1c_8372_11e9_ab9e_c4b301a6969crow6_col6\" class=\"data row6 col6\" >1</td>\n",
       "                        <td id=\"T_bf905d1c_8372_11e9_ab9e_c4b301a6969crow6_col7\" class=\"data row6 col7\" >0.00824055</td>\n",
       "                        <td id=\"T_bf905d1c_8372_11e9_ab9e_c4b301a6969crow6_col8\" class=\"data row6 col8\" >0.149894</td>\n",
       "            </tr>\n",
       "            <tr>\n",
       "                        <th id=\"T_bf905d1c_8372_11e9_ab9e_c4b301a6969clevel0_row7\" class=\"row_heading level0 row7\" >tempo</th>\n",
       "                        <td id=\"T_bf905d1c_8372_11e9_ab9e_c4b301a6969crow7_col0\" class=\"data row7 col0\" >-0.0253918</td>\n",
       "                        <td id=\"T_bf905d1c_8372_11e9_ab9e_c4b301a6969crow7_col1\" class=\"data row7 col1\" >-0.0263097</td>\n",
       "                        <td id=\"T_bf905d1c_8372_11e9_ab9e_c4b301a6969crow7_col2\" class=\"data row7 col2\" >-0.242089</td>\n",
       "                        <td id=\"T_bf905d1c_8372_11e9_ab9e_c4b301a6969crow7_col3\" class=\"data row7 col3\" >0.195227</td>\n",
       "                        <td id=\"T_bf905d1c_8372_11e9_ab9e_c4b301a6969crow7_col4\" class=\"data row7 col4\" >0.022215</td>\n",
       "                        <td id=\"T_bf905d1c_8372_11e9_ab9e_c4b301a6969crow7_col5\" class=\"data row7 col5\" >0.00273169</td>\n",
       "                        <td id=\"T_bf905d1c_8372_11e9_ab9e_c4b301a6969crow7_col6\" class=\"data row7 col6\" >0.00824055</td>\n",
       "                        <td id=\"T_bf905d1c_8372_11e9_ab9e_c4b301a6969crow7_col7\" class=\"data row7 col7\" >1</td>\n",
       "                        <td id=\"T_bf905d1c_8372_11e9_ab9e_c4b301a6969crow7_col8\" class=\"data row7 col8\" >0.0522212</td>\n",
       "            </tr>\n",
       "            <tr>\n",
       "                        <th id=\"T_bf905d1c_8372_11e9_ab9e_c4b301a6969clevel0_row8\" class=\"row_heading level0 row8\" >valence</th>\n",
       "                        <td id=\"T_bf905d1c_8372_11e9_ab9e_c4b301a6969crow8_col0\" class=\"data row8 col0\" >0.0100698</td>\n",
       "                        <td id=\"T_bf905d1c_8372_11e9_ab9e_c4b301a6969crow8_col1\" class=\"data row8 col1\" >-0.0138406</td>\n",
       "                        <td id=\"T_bf905d1c_8372_11e9_ab9e_c4b301a6969crow8_col2\" class=\"data row8 col2\" >0.473165</td>\n",
       "                        <td id=\"T_bf905d1c_8372_11e9_ab9e_c4b301a6969crow8_col3\" class=\"data row8 col3\" >0.0386027</td>\n",
       "                        <td id=\"T_bf905d1c_8372_11e9_ab9e_c4b301a6969crow8_col4\" class=\"data row8 col4\" >-0.219967</td>\n",
       "                        <td id=\"T_bf905d1c_8372_11e9_ab9e_c4b301a6969crow8_col5\" class=\"data row8 col5\" >-0.0450931</td>\n",
       "                        <td id=\"T_bf905d1c_8372_11e9_ab9e_c4b301a6969crow8_col6\" class=\"data row8 col6\" >0.149894</td>\n",
       "                        <td id=\"T_bf905d1c_8372_11e9_ab9e_c4b301a6969crow8_col7\" class=\"data row8 col7\" >0.0522212</td>\n",
       "                        <td id=\"T_bf905d1c_8372_11e9_ab9e_c4b301a6969crow8_col8\" class=\"data row8 col8\" >1</td>\n",
       "            </tr>\n",
       "    </tbody></table>"
      ],
      "text/plain": [
       "<pandas.io.formats.style.Styler at 0x10d2c4390>"
      ]
     },
     "execution_count": 4,
     "metadata": {},
     "output_type": "execute_result"
    }
   ],
   "source": [
    "print(\"No such strong relation exsists between 2 features\")\n",
    "Correlation=echo_tracks.corr()\n",
    "Correlation.style.background_gradient()\n"
   ]
  },
  {
   "cell_type": "markdown",
   "metadata": {},
   "source": [
    "## Standardization of dataset and PCA to understand variability and important features\n",
    "\n",
    "PCA can help us find the key features which can explain the variance between labels. PCA rotates the data along the axis with of highest variance, thus allowing us to explain key contributors. PCA makes use of raw values because of which a feature having broad range of value will dominate over others. We don't want that so we will standardise all the features.  "
   ]
  },
  {
   "cell_type": "code",
   "execution_count": 5,
   "metadata": {},
   "outputs": [],
   "source": [
    "# extract features\n",
    "features=echo_tracks.drop(['track_id','genre_top'],axis=1)\n",
    "# Declare Labels\n",
    "labels=echo_tracks['genre_top']\n",
    "\n",
    "scaler=StandardScaler()\n",
    "scaled_train_features=scaler.fit_transform(features)"
   ]
  },
  {
   "cell_type": "code",
   "execution_count": 6,
   "metadata": {},
   "outputs": [
    {
     "data": {
      "text/plain": [
       "Text(0.5, 0, '# Features')"
      ]
     },
     "execution_count": 6,
     "metadata": {},
     "output_type": "execute_result"
    },
    {
     "data": {
      "image/png": "[encoded data removed]",
      "text/plain": [
       "<Figure size 432x288 with 1 Axes>"
      ]
     },
     "metadata": {
      "needs_background": "light"
     },
     "output_type": "display_data"
    }
   ],
   "source": [
    "from sklearn.decomposition import PCA\n",
    "\n",
    "pca=PCA()\n",
    "mode=pca.fit(scaled_train_features)\n",
    "evr=pca.explained_variance_ratio_\n",
    "\n",
    "fig,ax=plt.subplots()\n",
    "ax.bar(range(0,8),evr)\n",
    "ax.set_xlabel(\"# Features\")"
   ]
  },
  {
   "cell_type": "markdown",
   "metadata": {},
   "source": [
    "The above graph doesn't give us a very good idea about the features. How many features do we need to explain the variance in our labels? can be answered by one more way. We can take a cumulative sum of the variances for factors and cut off graph at 90%."
   ]
  },
  {
   "cell_type": "code",
   "execution_count": 7,
   "metadata": {},
   "outputs": [
    {
     "data": {
      "image/png": "[encoded data removed]",
      "text/plain": [
       "<Figure size 432x288 with 1 Axes>"
      ]
     },
     "metadata": {
      "needs_background": "light"
     },
     "output_type": "display_data"
    }
   ],
   "source": [
    "import numpy as np\n",
    "\n",
    "explained_var=np.cumsum(evr)\n",
    "\n",
    "fig,ax=plt.subplots()\n",
    "ax.plot(range(1,9),explained_var)\n",
    "ax.axhline(y=0.9,linestyle='--')\n",
    "n_components=6\n",
    "\n",
    "pca=PCA(n_components, random_state=42)\n",
    "pca.fit(scaled_train_features)\n",
    "pca_projection=pca.transform(scaled_train_features)"
   ]
  },
  {
   "cell_type": "markdown",
   "metadata": {},
   "source": [
    "We just reduced the dimensions of our feature set. We can now fit the data on Machine Learning algorithms"
   ]
  },
  {
   "cell_type": "markdown",
   "metadata": {},
   "source": [
    "## Fitting labels using Machine Learning: Decision Tree"
   ]
  },
  {
   "cell_type": "code",
   "execution_count": 8,
   "metadata": {},
   "outputs": [
    {
     "name": "stdout",
     "output_type": "stream",
     "text": [
      "Decision Tree Score\n",
      "0.8709408825978351\n",
      "\n",
      "**********\n",
      "Confusion Matrix \n",
      "genre_top  Hip-Hop  Rock\n",
      "row_0                   \n",
      "Hip-Hop        152    78\n",
      "Rock            77   894\n"
     ]
    }
   ],
   "source": [
    "# Import train_test_split function and Decision tree classifier\n",
    "from sklearn.model_selection import train_test_split\n",
    "from sklearn.tree import DecisionTreeClassifier\n",
    "\n",
    "# Split our data\n",
    "train_features, test_features, train_labels, test_labels = train_test_split(pca_projection,labels,random_state=10)\n",
    "\n",
    "# Train our decision tree\n",
    "tree = DecisionTreeClassifier(random_state=10)\n",
    "tree.fit(train_features, train_labels)\n",
    "\n",
    "# Predict the labels for the test data\n",
    "pred_labels_tree = tree.predict(test_features)\n",
    "print(\"Decision Tree Score\")\n",
    "print(tree.score(test_features, test_labels))\n",
    "print()\n",
    "print(\"**********\")\n",
    "print(\"Confusion Matrix \")\n",
    "print(pd.crosstab(pred_labels_tree, test_labels))"
   ]
  },
  {
   "cell_type": "markdown",
   "metadata": {},
   "source": [
    "## Fitting Labels Using Logistic Regression"
   ]
  },
  {
   "cell_type": "code",
   "execution_count": 9,
   "metadata": {},
   "outputs": [
    {
     "name": "stdout",
     "output_type": "stream",
     "text": [
      "Decision Tree: \n",
      "               precision    recall  f1-score   support\n",
      "\n",
      "     Hip-Hop       0.66      0.66      0.66       229\n",
      "        Rock       0.92      0.92      0.92       972\n",
      "\n",
      "   micro avg       0.87      0.87      0.87      1201\n",
      "   macro avg       0.79      0.79      0.79      1201\n",
      "weighted avg       0.87      0.87      0.87      1201\n",
      "\n",
      "Logistic Regression : \n",
      "               precision    recall  f1-score   support\n",
      "\n",
      "     Hip-Hop       0.75      0.57      0.65       229\n",
      "        Rock       0.90      0.95      0.93       972\n",
      "\n",
      "   micro avg       0.88      0.88      0.88      1201\n",
      "   macro avg       0.83      0.76      0.79      1201\n",
      "weighted avg       0.87      0.88      0.87      1201\n",
      "\n"
     ]
    },
    {
     "name": "stderr",
     "output_type": "stream",
     "text": [
      "/anaconda3/lib/python3.6/site-packages/sklearn/linear_model/logistic.py:433: FutureWarning: Default solver will be changed to 'lbfgs' in 0.22. Specify a solver to silence this warning.\n",
      "  FutureWarning)\n"
     ]
    }
   ],
   "source": [
    "from sklearn.linear_model import LogisticRegression\n",
    "\n",
    "logreg=LogisticRegression(random_state=10)\n",
    "logreg.fit(train_features, train_labels)\n",
    "pred_labels_logreg=logreg.predict(test_features)\n",
    "\n",
    "from sklearn.metrics import classification_report\n",
    "\n",
    "class_rep_tree=classification_report(test_labels,pred_labels_tree)\n",
    "class_rep_log=classification_report(test_labels,pred_labels_logreg)\n",
    "\n",
    "print('Decision Tree: \\n',class_rep_tree)\n",
    "print('Logistic Regression : \\n',class_rep_log)\n"
   ]
  },
  {
   "cell_type": "markdown",
   "metadata": {},
   "source": [
    "From the above Crosstab and classification_report we can see that model fits the Rock very godd but not the Hip-Hop. This is not a very ideal model, imagine we have 1000 cases of \"Rock\" and 100 cases of \"Hip-Hop\", the prob that you will randomly pick up \"Rock\" and be right is very high, than when you want to pick up \"Hip-Hop\". \n",
    "\n",
    "To tackle this inbalance we need to have same number of cases for both \"Rock\" and \"Hip-Hop\" so that our model is not skewed."
   ]
  },
  {
   "cell_type": "markdown",
   "metadata": {},
   "source": [
    "### Balancing our datasets with equal number of Rock and Hip-Hop"
   ]
  },
  {
   "cell_type": "code",
   "execution_count": 10,
   "metadata": {},
   "outputs": [],
   "source": [
    "hiphop=echo_tracks[echo_tracks['genre_top']=='Hip-Hop']\n",
    "rock=echo_tracks[echo_tracks['genre_top']=='Rock']\n",
    "# resampling equal number of Rock cases as of hiphop and concat both new dfs to create a balanced dataset\n",
    "rock=rock.sample(len(hiphop),random_state=10)\n",
    "\n",
    "# Concat 2 dfs\n",
    "rock_hiphop=pd.concat([hiphop,rock])\n",
    "\n",
    "\n",
    "# The features, labels, and pca projection are created for the balanced dataframe\n",
    "features = rock_hiphop.drop(['genre_top', 'track_id'], axis=1) \n",
    "labels = rock_hiphop['genre_top']\n",
    "pca_projection = pca.fit_transform(scaler.fit_transform(features))\n",
    "\n",
    "# Redefine the train and test set with the pca_projection from the balanced data\n",
    "train_features, test_features, train_labels, test_labels = train_test_split(pca_projection, labels,random_state=10)"
   ]
  },
  {
   "cell_type": "markdown",
   "metadata": {},
   "source": [
    "Now we have a balanced dataset with correct dimension reduced we can again fit our models on Tree and LogReg\n",
    "\n",
    "### Fitting balanced dataset on DecisionTree and Logistic regression"
   ]
  },
  {
   "cell_type": "code",
   "execution_count": 11,
   "metadata": {},
   "outputs": [
    {
     "name": "stdout",
     "output_type": "stream",
     "text": [
      "Decision Tree: \n",
      "               precision    recall  f1-score   support\n",
      "\n",
      "     Hip-Hop       0.76      0.78      0.77       225\n",
      "        Rock       0.78      0.76      0.77       230\n",
      "\n",
      "   micro avg       0.77      0.77      0.77       455\n",
      "   macro avg       0.77      0.77      0.77       455\n",
      "weighted avg       0.77      0.77      0.77       455\n",
      "\n",
      "col_0      Hip-Hop  Rock\n",
      "genre_top               \n",
      "Hip-Hop        176    49\n",
      "Rock            56   174\n",
      "\n",
      "******\n",
      "Logistic Regression: \n",
      "               precision    recall  f1-score   support\n",
      "\n",
      "     Hip-Hop       0.82      0.85      0.84       225\n",
      "        Rock       0.85      0.82      0.83       230\n",
      "\n",
      "   micro avg       0.84      0.84      0.84       455\n",
      "   macro avg       0.84      0.84      0.84       455\n",
      "weighted avg       0.84      0.84      0.84       455\n",
      "\n",
      "col_0      Hip-Hop  Rock\n",
      "genre_top               \n",
      "Hip-Hop        192    33\n",
      "Rock            42   188\n"
     ]
    }
   ],
   "source": [
    "import warnings\n",
    "warnings.filterwarnings(\"ignore\", category=FutureWarning)\n",
    "\n",
    "tree=DecisionTreeClassifier(random_state=10)\n",
    "tree.fit(train_features, train_labels)\n",
    "tree_pred_val=tree.predict(test_features)\n",
    "\n",
    "logreg=LogisticRegression(random_state=10)\n",
    "logreg.fit(train_features, train_labels)\n",
    "logreg_pred_val=logreg.predict(test_features)\n",
    "\n",
    "\n",
    "print(\"Decision Tree: \\n\", classification_report(test_labels,tree_pred_val))\n",
    "print(pd.crosstab(test_labels,tree_pred_val))\n",
    "\n",
    "print()\n",
    "print(\"******\")\n",
    "print(\"Logistic Regression: \\n\", classification_report(test_labels,logreg_pred_val))\n",
    "print(pd.crosstab(test_labels,logreg_pred_val))"
   ]
  },
  {
   "cell_type": "markdown",
   "metadata": {},
   "source": [
    "Now our model seems quite a lot balanced"
   ]
  },
  {
   "cell_type": "markdown",
   "metadata": {},
   "source": [
    "### Using Cross Validation to evaluate models"
   ]
  },
  {
   "cell_type": "code",
   "execution_count": 12,
   "metadata": {},
   "outputs": [
    {
     "name": "stdout",
     "output_type": "stream",
     "text": [
      "Decision Tree score: 0.724175824175824 Logistic Regression 0.7752747252747252\n"
     ]
    }
   ],
   "source": [
    "from sklearn.model_selection import KFold, cross_val_score\n",
    "\n",
    "kf=KFold(n_splits=10,random_state=10)\n",
    "\n",
    "tree=DecisionTreeClassifier(random_state=10)\n",
    "logreg=LogisticRegression(random_state=10)\n",
    "\n",
    "tree_score=cross_val_score(tree,pca_projection,labels,cv=kf)\n",
    "logreg_score=cross_val_score(logreg,pca_projection,labels,cv=kf)\n",
    "\n",
    "print(\"Decision Tree score:\",np.mean(tree_score),\"Logistic Regression\",np.mean(logreg_score))\n",
    "\n",
    "\n"
   ]
  }
 ],
 "metadata": {
  "kernelspec": {
   "display_name": "Python 3",
   "language": "python",
   "name": "python3"
  },
  "language_info": {
   "codemirror_mode": {
    "name": "ipython",
    "version": 3
   },
   "file_extension": ".py",
   "mimetype": "text/x-python",
   "name": "python",
   "nbconvert_exporter": "python",
   "pygments_lexer": "ipython3",
   "version": "3.6.8"
  }
 },
 "nbformat": 4,
 "nbformat_minor": 2
}
