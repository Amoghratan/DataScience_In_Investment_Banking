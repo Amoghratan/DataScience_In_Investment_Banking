{
 "cells": [
  {
   "cell_type": "markdown",
   "metadata": {},
   "source": [
    "# Modern Portfolio Theory & Machine Learning"
   ]
  },
  {
   "cell_type": "code",
   "execution_count": 1,
   "metadata": {},
   "outputs": [],
   "source": [
    "import pandas as pd \n",
    "import numpy as np\n",
    "import matplotlib.pyplot as plt"
   ]
  },
  {
   "cell_type": "markdown",
   "metadata": {},
   "source": [
    "### Dataframe Declaration"
   ]
  },
  {
   "cell_type": "code",
   "execution_count": 2,
   "metadata": {},
   "outputs": [
    {
     "name": "stdout",
     "output_type": "stream",
     "text": [
      "                 AAPL        AMZN        XLK\n",
      "Date                                        \n",
      "2012-01-03  58.747143  179.029999  25.809999\n",
      "2012-01-04  59.062859  177.509995  25.879999\n",
      "2012-01-05  59.718571  177.610001  25.959999\n",
      "2012-01-06  60.342857  182.610001  25.969999\n",
      "2012-01-09  60.247143  178.559998  25.930000\n"
     ]
    }
   ],
   "source": [
    "stocks=['AAPL','AMZN','XLK']\n",
    "\n",
    "AAPL_df=pd.read_csv(\"data/AAPL.csv\")\n",
    "AMZN_df=pd.read_csv(\"data/AMZN.csv\")\n",
    "XLK_df=pd.read_csv(\"data/XLK.csv\")\n",
    "\n",
    "def date_index_conversion(data):\n",
    "    data.index=data['Date']\n",
    "    data=data.drop('Date',axis=1)\n",
    "    data.index=pd.to_datetime(data.index)\n",
    "    return data\n",
    "    \n",
    "AAPL_df=date_index_conversion(AAPL_df)['Close']\n",
    "AMZN_df=date_index_conversion(AMZN_df)['Close']\n",
    "XLK_df=date_index_conversion(XLK_df)['Close']\n",
    "    \n",
    "\n",
    "full_df=pd.concat([AAPL_df,AMZN_df,XLK_df],axis=1).dropna()\n",
    "full_df.columns=stocks\n",
    "print(full_df.head(5))"
   ]
  },
  {
   "cell_type": "markdown",
   "metadata": {},
   "source": [
    "### Calculating Returns"
   ]
  },
  {
   "cell_type": "code",
   "execution_count": 3,
   "metadata": {},
   "outputs": [
    {
     "name": "stdout",
     "output_type": "stream",
     "text": [
      "                AAPL      AMZN       XLK\n",
      "Date                                    \n",
      "2012-02-01  0.109331  0.002402  0.057730\n",
      "2012-03-01  0.193516  0.003232  0.066667\n",
      "2012-04-02  0.136206  0.100033  0.046703\n",
      "2012-05-01 -0.059001  0.161525 -0.018373\n",
      "2012-06-01 -0.036315 -0.094853 -0.090909\n"
     ]
    }
   ],
   "source": [
    "# Calculating Returns\n",
    "daily_returns=full_df.pct_change().dropna()\n",
    "month_df=full_df.resample('BMS').first()\n",
    "monthly_returns=month_df.pct_change().dropna()\n",
    "print(monthly_returns.head(5))"
   ]
  },
  {
   "cell_type": "markdown",
   "metadata": {},
   "source": [
    "### Volatility calcualtion : By looping through months and calculating volatility on daily returns"
   ]
  },
  {
   "cell_type": "code",
   "execution_count": 4,
   "metadata": {},
   "outputs": [
    {
     "name": "stdout",
     "output_type": "stream",
     "text": [
      "2019-05-01 00:00:00\n",
      "          AAPL      AMZN       XLK\n",
      "AAPL  0.000606  0.000210  0.000261\n",
      "AMZN  0.000210  0.000261  0.000184\n",
      "XLK   0.000261  0.000184  0.000197\n"
     ]
    }
   ],
   "source": [
    "covariances={}\n",
    "for i in monthly_returns.index:\n",
    "    rtd_idx=daily_returns.index\n",
    "    mask=(rtd_idx.month == i.month) & (rtd_idx.year == i.year)\n",
    "    covariances[i]=daily_returns[mask].cov()\n",
    "\n",
    "print(i)\n",
    "print(covariances[i])"
   ]
  },
  {
   "cell_type": "markdown",
   "metadata": {},
   "source": [
    "### Portfolio Weights\n",
    "\n",
    "We will now generate portfolios to find each month's best one. Using random.random() we generate weights and use it to calcualte volatility & returns. We will store the rrsult in dictionaries, we are generating 1000 random portfolio for each month for the above stocks"
   ]
  },
  {
   "cell_type": "code",
   "execution_count": 5,
   "metadata": {},
   "outputs": [
    {
     "name": "stdout",
     "output_type": "stream",
     "text": [
      "[0.28205573 0.207241   0.51070326]\n"
     ]
    }
   ],
   "source": [
    "portfolio_returns, portfolio_volatility, portfolio_weights={},{},{}\n",
    "\n",
    "for date in sorted(covariances.keys()):\n",
    "    cov=covariances[date]\n",
    "    for portfolio in range(1000):\n",
    "        # assigning random weights\n",
    "        weights=np.random.random(3)\n",
    "        weights/=np.sum(weights)\n",
    "        \n",
    "        # assigning returns\n",
    "        returns=np.dot(weights, monthly_returns.loc[date])\n",
    "        volatility = np.sqrt(np.dot(weights.T, np.dot(cov, weights)))\n",
    "        \n",
    "        # Storing returns, vol, weights\n",
    "        portfolio_returns.setdefault(date,[]).append(returns)\n",
    "        portfolio_volatility.setdefault(date,[]).append(volatility)\n",
    "        portfolio_weights.setdefault(date,[]).append(weights)\n",
    "        \n",
    "print(portfolio_weights[date][0])\n",
    "        "
   ]
  },
  {
   "cell_type": "markdown",
   "metadata": {},
   "source": [
    "### Plotting efficient Frontier for latest date\n",
    "\n",
    "Efficient frontier is a plot of volatility vs returns which is helpful to visualise risk/return trade off. Upper left boundary of points is thebest we can do"
   ]
  },
  {
   "cell_type": "code",
   "execution_count": 6,
   "metadata": {},
   "outputs": [
    {
     "name": "stdout",
     "output_type": "stream",
     "text": [
      "What you are seeing below is 1000 different cases of weights, volatility and returns for a latest date. The plot tells us on 1 particular day how does volatility and return looks like. We are accustomed to see Efficient Frontier in form of an arc, but since all the returns are +ve we see semi arc\n"
     ]
    },
    {
     "data": {
      "image/png": "[encoded data removed]",
      "text/plain": [
       "<Figure size 432x288 with 1 Axes>"
      ]
     },
     "metadata": {
      "needs_background": "light"
     },
     "output_type": "display_data"
    }
   ],
   "source": [
    "date=sorted(covariances.keys())[-1]\n",
    "\n",
    "print(\"What you are seeing below is 1000 different cases of weights, volatility and returns for a latest date. The plot tells us on 1 particular day how does volatility and return looks like. We are accustomed to see Efficient Frontier in form of an arc, but since all the returns are +ve we see semi arc\")\n",
    "\n",
    "# Plot the efficient frontier\n",
    "plt.scatter(x=portfolio_volatility[date],y=portfolio_returns[date],alpha=0.1)\n",
    "plt.xlabel(\"Volatility\")\n",
    "plt.ylabel(\"Returns\")\n",
    "plt.show()"
   ]
  },
  {
   "cell_type": "markdown",
   "metadata": {},
   "source": [
    "### Get best Sharpe ratios, best portfolio for each month and use it as target variabe in Machine Learning"
   ]
  },
  {
   "cell_type": "code",
   "execution_count": 9,
   "metadata": {},
   "outputs": [
    {
     "name": "stdout",
     "output_type": "stream",
     "text": [
      "For latest date(month) the return for portfolio with max sharpe ratio is \n",
      "2019-05-01 00:00:00\n",
      "0.08083953409931036\n"
     ]
    }
   ],
   "source": [
    "sharpe_ratio, max_sharpe_idxs={},{}\n",
    "for date in portfolio_returns.keys():\n",
    "    for i,ret in enumerate(portfolio_returns[date]):\n",
    "        sharpe_ratio.setdefault(date,[]).append(ret/portfolio_volatility[date][i])\n",
    "    # Max Sharpe Ratio\n",
    "    max_sharpe_idxs[date]=np.argmax(sharpe_ratio[date])\n",
    "\n",
    "print(\"For latest date(month) the return for portfolio with max sharpe ratio is \")    \n",
    "print(date)\n",
    "print(portfolio_returns[date][max_sharpe_idxs[date]])    "
   ]
  },
  {
   "cell_type": "markdown",
   "metadata": {},
   "source": [
    "### Building Features for prediction of portfolio returns\n",
    "1) Target Variables = Best portfolio weights for each month<br>\n",
    "2) Features - eg EMWA(monthly), we will shift the EWMA for months by 1 month so that they act as predictors\n"
   ]
  },
  {
   "cell_type": "code",
   "execution_count": 10,
   "metadata": {},
   "outputs": [
    {
     "name": "stdout",
     "output_type": "stream",
     "text": [
      "AAPL    0.003650\n",
      "AMZN    0.003881\n",
      "XLK     0.003085\n",
      "Name: 2019-05-01 00:00:00, dtype: float64\n"
     ]
    }
   ],
   "source": [
    "ewma_daily=daily_returns.ewm(span=30).mean()\n",
    "ewm_monthly=ewma_daily.resample('BMS').first()\n",
    "ewm_monthly=ewm_monthly.shift(1).dropna()\n",
    "print(ewm_monthly.iloc[-1])"
   ]
  },
  {
   "cell_type": "code",
   "execution_count": 11,
   "metadata": {
    "scrolled": true
   },
   "outputs": [
    {
     "name": "stdout",
     "output_type": "stream",
     "text": [
      "[[0.91968081 0.02173623 0.05858296]\n",
      " [0.0062382  0.01303343 0.98072838]\n",
      " [0.04147254 0.01053055 0.9479969 ]\n",
      " [0.27367666 0.21649714 0.5098262 ]\n",
      " [0.57825045 0.40976142 0.01198813]]\n",
      "[[-0.00268928  0.00505618  0.00151043]\n",
      " [-0.00432658 -0.00015471 -0.00196452]\n",
      " [ 0.00337334  0.00046236  0.00248193]\n",
      " [ 0.00263916  0.00190069  0.0030597 ]\n",
      " [ 0.0036501   0.00388078  0.00308452]]\n"
     ]
    }
   ],
   "source": [
    "targets, features=[],[]\n",
    "\n",
    "for date,ewm in ewm_monthly.iterrows():\n",
    "    best_idx=max_sharpe_idxs[date]\n",
    "    targets.append(portfolio_weights[date][best_idx])\n",
    "    features.append(ewm)\n",
    "\n",
    "tagets=np.array(targets)   \n",
    "features=np.array(features)\n",
    "print(tagets[-5:])\n",
    "print(features[-5:])"
   ]
  },
  {
   "cell_type": "markdown",
   "metadata": {},
   "source": [
    "### Adding Best Sharpe Ratio Portfolio on above Efficient Frontier with an X"
   ]
  },
  {
   "cell_type": "raw",
   "metadata": {},
   "source": [
    "date=sorted(covariances.keys())[-1]\n",
    "cur_returns=portfolio_returns[date]\n",
    "cur_vol=portfolio_volatility[date]\n",
    "\n",
    "\n",
    "# Plot the efficient frontier\n",
    "fig,ax=plt.subplots(figsize=(8,8))\n",
    "plt.scatter(x=cur_vol,y=cur_returns,alpha=0.1)\n",
    "best_idx=max_sharpe_idxs[date]\n",
    "\n",
    "plt.scatter(x=cur_vol[best_idx], y=cur_returns[best_idx], marker='x', color='black')\n",
    "plt.xlabel(\"Volatility\")\n",
    "plt.ylabel(\"Returns\")\n",
    "plt.show()"
   ]
  },
  {
   "cell_type": "markdown",
   "metadata": {},
   "source": [
    "### Machine Learning for MPT : Random Forest"
   ]
  },
  {
   "cell_type": "code",
   "execution_count": 12,
   "metadata": {},
   "outputs": [
    {
     "name": "stdout",
     "output_type": "stream",
     "text": [
      "0.8367437878880553\n",
      "-0.20759893561108148\n"
     ]
    }
   ],
   "source": [
    "from sklearn.ensemble import RandomForestRegressor\n",
    "\n",
    "train_size=int(0.85 * features.shape[0])\n",
    "train_features=features[:train_size]\n",
    "test_features=features[train_size:]\n",
    "\n",
    "\n",
    "train_targets=targets[:train_size]\n",
    "test_targets=targets[train_size:]\n",
    "\n",
    "model=RandomForestRegressor(n_estimators=300,random_state=42)\n",
    "model.fit(train_features, train_targets)\n",
    "print(model.score(train_features, train_targets))\n",
    "print(model.score(test_features, test_targets))"
   ]
  },
  {
   "cell_type": "markdown",
   "metadata": {},
   "source": [
    "With the above train model we will use it to get predictions on the test set and compare it with SPY returns. Remeber we are predicting the asset weights and multiply it with stock returns to get total returns which will be compared with SPY returns.\n"
   ]
  },
  {
   "cell_type": "code",
   "execution_count": 14,
   "metadata": {},
   "outputs": [
    {
     "data": {
      "image/png": "[encoded data removed]",
      "text/plain": [
       "<Figure size 432x288 with 1 Axes>"
      ]
     },
     "metadata": {
      "needs_background": "light"
     },
     "output_type": "display_data"
    }
   ],
   "source": [
    "SPY_df=pd.read_csv('data/SPY.csv')\n",
    "SPY_df=date_index_conversion(SPY_df)['Close']\n",
    "\n",
    "SPY_df_daily=SPY_df.pct_change().dropna()\n",
    "SPY_df_month=SPY_df_daily.resample('BMS').first()\n",
    "SPY_monthly_returns=SPY_df_month.pct_change().dropna()\n",
    "SPY_monthly_returns=SPY_monthly_returns/100\n",
    "\n",
    "train_predictions=model.predict(train_features)\n",
    "test_predictions=model.predict(test_features)\n",
    "\n",
    "test_returns = np.sum(monthly_returns.iloc[train_size:] *test_predictions, axis=1)\n",
    "plt.plot(test_returns,label='algo')\n",
    "plt.plot(SPY_monthly_returns.iloc[train_size:],label='SPY')\n",
    "plt.legend()\n",
    "plt.show()"
   ]
  },
  {
   "cell_type": "markdown",
   "metadata": {},
   "source": [
    "We are doing extreme performance when compared with SPY. At sometimes we are doing extremenly good and at other we are doing not so good. "
   ]
  },
  {
   "cell_type": "markdown",
   "metadata": {},
   "source": [
    "### Let's calculate the return on a 1000 Dollar investment"
   ]
  },
  {
   "cell_type": "code",
   "execution_count": 15,
   "metadata": {},
   "outputs": [
    {
     "name": "stdout",
     "output_type": "stream",
     "text": [
      "algo returns: 0.23171195480388973\n",
      "SPY returns: 0.10049586429171609\n"
     ]
    }
   ],
   "source": [
    "cash =1000\n",
    "algo_cash, spy_cash=[cash],[cash]\n",
    "\n",
    "for i in test_returns:\n",
    "    cash *= 1+i\n",
    "    algo_cash.append(cash)\n",
    "    \n",
    "cash=1000    \n",
    "for i in SPY_monthly_returns.iloc[train_size:]:\n",
    "    cash *= 1+i\n",
    "    spy_cash.append(cash)\n",
    "    \n",
    "print('algo returns:', (algo_cash[-1] - algo_cash[0]) / algo_cash[0])\n",
    "print('SPY returns:', (spy_cash[-1] - spy_cash[0]) / spy_cash[0])    \n",
    "    "
   ]
  },
  {
   "cell_type": "markdown",
   "metadata": {},
   "source": [
    "Our Algorithm has performed better than SPY in these months"
   ]
  },
  {
   "cell_type": "code",
   "execution_count": 16,
   "metadata": {},
   "outputs": [
    {
     "data": {
      "image/png": "[encoded data removed]",
      "text/plain": [
       "<Figure size 432x288 with 1 Axes>"
      ]
     },
     "metadata": {
      "needs_background": "light"
     },
     "output_type": "display_data"
    },
    {
     "name": "stdout",
     "output_type": "stream",
     "text": [
      "Please don't use this algo for trading purpose, I have taken AMZN, AAPL and tech etf which has by far performed the best in past year, so automatically we see good performance over time\n"
     ]
    }
   ],
   "source": [
    "# Plot the algo_cash and spy_cash to compare overall returns\n",
    "plt.plot(algo_cash,label='algo')\n",
    "plt.plot(spy_cash, label='SPY')\n",
    "plt.legend()# show the legend\n",
    "plt.title(\"Comparing the algo cash and SPY cash\")\n",
    "plt.show()\n",
    "\n",
    "print(\"Please don't use this algo for trading purpose, I have taken AMZN, AAPL and tech etf which has by far performed the best in past year, so automatically we see good performance over time\")"
   ]
  }
 ],
 "metadata": {
  "kernelspec": {
   "display_name": "Python 3",
   "language": "python",
   "name": "python3"
  },
  "language_info": {
   "codemirror_mode": {
    "name": "ipython",
    "version": 3
   },
   "file_extension": ".py",
   "mimetype": "text/x-python",
   "name": "python",
   "nbconvert_exporter": "python",
   "pygments_lexer": "ipython3",
   "version": "3.6.8"
  }
 },
 "nbformat": 4,
 "nbformat_minor": 2
}
