{
 "cells": [
  {
   "cell_type": "code",
   "execution_count": 12,
   "metadata": {},
   "outputs": [
    {
     "name": "stdout",
     "output_type": "stream",
     "text": [
      "Sleeping 1 second\n",
      "Done Sleeping\n",
      "Sleeping 1 second\n",
      "Done Sleeping\n",
      "Finish Task In 2.0061526209999556\n"
     ]
    }
   ],
   "source": [
    "import time \n",
    "\n",
    "start=time.perf_counter()\n",
    "\n",
    "def do_something():\n",
    "    print(\"Sleeping 1 second\")\n",
    "    time.sleep(1)\n",
    "    print(\"Done Sleeping\")\n",
    "    \n",
    "\n",
    "do_something()\n",
    "do_something()\n",
    "\n",
    "finish=time.perf_counter()\n",
    "\n",
    "print(\"Finish Task In {}\".format(finish-start))"
   ]
  },
  {
   "cell_type": "markdown",
   "metadata": {},
   "source": [
    "# Threading\n",
    "\n",
    "## Run code concurrently"
   ]
  },
  {
   "cell_type": "code",
   "execution_count": 13,
   "metadata": {},
   "outputs": [
    {
     "name": "stdout",
     "output_type": "stream",
     "text": [
      "Sleeping 1 second\n",
      "Sleeping 1 second\n",
      "Done Sleeping\n",
      "Done Sleeping\n",
      "\n",
      "Finish Task In 1.0522010679999312\n"
     ]
    }
   ],
   "source": [
    "import time \n",
    "import threading\n",
    "\n",
    "start=time.perf_counter()\n",
    "\n",
    "def do_something():\n",
    "    print(\"Sleeping 1 second\")\n",
    "    time.sleep(1)\n",
    "    print(\"Done Sleeping\")\n",
    "    \n",
    "t1=threading.Thread(target=do_something)\n",
    "t2=threading.Thread(target=do_something)\n",
    "\n",
    "t1.start()\n",
    "t2.start()\n",
    "\n",
    "t1.join()\n",
    "t2.join()\n",
    "\n",
    "\n",
    "finish=time.perf_counter()\n",
    "print()\n",
    "print(\"Finish Task In {}\".format(finish-start))"
   ]
  },
  {
   "cell_type": "markdown",
   "metadata": {},
   "source": [
    "# Creating multiple threads in for loop"
   ]
  },
  {
   "cell_type": "code",
   "execution_count": 17,
   "metadata": {},
   "outputs": [
    {
     "name": "stdout",
     "output_type": "stream",
     "text": [
      "Sleeping 1.5 second\n",
      "Sleeping 1.5 second\n",
      "Sleeping 1.5 second\n",
      "Sleeping 1.5 second\n",
      "Sleeping 1.5 second\n",
      "Sleeping 1.5 second\n",
      "Sleeping 1.5 second\n",
      "Sleeping 1.5 second\n",
      "Sleeping 1.5 second\n",
      "Sleeping 1.5 second\n",
      "Done Sleeping\n",
      "Done Sleeping\n",
      "Done Sleeping\n",
      "Done Sleeping\n",
      "Done Sleeping\n",
      "Done Sleeping\n",
      "Done Sleeping\n",
      "Done Sleeping\n",
      "Done Sleeping\n",
      "Done Sleeping\n",
      "\n",
      "Finish Task In 1.6221166130001166\n"
     ]
    }
   ],
   "source": [
    "import time \n",
    "import threading\n",
    "\n",
    "start=time.perf_counter()\n",
    "\n",
    "def do_something(seconds):\n",
    "    print(f\"Sleeping {seconds} second\")\n",
    "    time.sleep(seconds)\n",
    "    print(\"Done Sleeping\")\n",
    "\n",
    "threads_list=[]\n",
    "for _ in range(10):\n",
    "    t=threading.Thread(target=do_something,args=[1.5])\n",
    "    t.start()\n",
    "    threads_list.append(t)\n",
    "\n",
    "for thread in threads_list:\n",
    "    thread.join()\n",
    "\n",
    "\n",
    "finish=time.perf_counter()\n",
    "print()\n",
    "print(\"Finish Task In {}\".format(finish-start))"
   ]
  },
  {
   "cell_type": "markdown",
   "metadata": {},
   "source": [
    "# Thread Pool Executor"
   ]
  },
  {
   "cell_type": "code",
   "execution_count": 25,
   "metadata": {},
   "outputs": [
    {
     "name": "stdout",
     "output_type": "stream",
     "text": [
      "Sleeping 5 second\n",
      "Sleeping 4 secondSleeping 3 second\n",
      "\n",
      "Sleeping 2 second\n",
      "Sleeping 1 second\n",
      "Done Sleeping... 1\n",
      "Done Sleeping... 2\n",
      "Done Sleeping... 3\n",
      "Done Sleeping... 4\n",
      "Done Sleeping... 5\n",
      "\n",
      "Finish Task In 5.017693963000056\n"
     ]
    }
   ],
   "source": [
    "import concurrent.futures\n",
    "import time \n",
    "\n",
    "start=time.perf_counter()\n",
    "\n",
    "def do_something(seconds):\n",
    "    print(f\"Sleeping {seconds} second\")\n",
    "    time.sleep(seconds)\n",
    "    return f\"Done Sleeping... {seconds}\"\n",
    "\n",
    "\n",
    "with concurrent.futures.ThreadPoolExecutor() as executor:\n",
    "    # Lilsts comprehension\n",
    "    secs=[5,4,3,2,1]\n",
    "    results=[executor.submit(do_something,sec) for sec in secs]\n",
    "    \n",
    "    # Iterator\n",
    "    for f in concurrent.futures.as_completed(results):\n",
    "        print(f.result())\n",
    "    \n",
    "'''    \n",
    "threads_list=[]\n",
    "for _ in range(10):\n",
    "    t=threading.Thread(target=do_something,args=[1.5])\n",
    "    t.start()\n",
    "    threads_list.append(t)\n",
    "\n",
    "for thread in threads_list:\n",
    "    thread.join()\n",
    "'''\n",
    "\n",
    "finish=time.perf_counter()\n",
    "print()\n",
    "print(\"Finish Task In {}\".format(finish-start))\n",
    "\n"
   ]
  },
  {
   "cell_type": "markdown",
   "metadata": {},
   "source": [
    "# MAP function returns result in order they were started"
   ]
  },
  {
   "cell_type": "code",
   "execution_count": 27,
   "metadata": {},
   "outputs": [
    {
     "name": "stdout",
     "output_type": "stream",
     "text": [
      "Sleeping 5 secondSleeping 4 second\n",
      "\n",
      "Sleeping 3 secondSleeping 2 second\n",
      "\n",
      "Sleeping 1 second\n",
      "Done Sleeping... 5\n",
      "Done Sleeping... 4\n",
      "Done Sleeping... 3\n",
      "Done Sleeping... 2\n",
      "Done Sleeping... 1\n",
      "\n",
      "Finish Task In 5.043501573999947\n"
     ]
    }
   ],
   "source": [
    "import concurrent.futures\n",
    "import time \n",
    "\n",
    "start=time.perf_counter()\n",
    "\n",
    "def do_something(seconds):\n",
    "    print(f\"Sleeping {seconds} second\")\n",
    "    time.sleep(seconds)\n",
    "    return f\"Done Sleeping... {seconds}\"\n",
    "\n",
    "\n",
    "with concurrent.futures.ThreadPoolExecutor() as executor:\n",
    "    # Lilsts comprehension\n",
    "    secs=[5,4,3,2,1]\n",
    "    results=executor.map(do_something,secs)\n",
    "    \n",
    "    for result in results:\n",
    "        print(result)\n",
    "    \n",
    "'''    \n",
    "threads_list=[]\n",
    "for _ in range(10):\n",
    "    t=threading.Thread(target=do_something,args=[1.5])\n",
    "    t.start()\n",
    "    threads_list.append(t)\n",
    "\n",
    "for thread in threads_list:\n",
    "    thread.join()\n",
    "'''\n",
    "\n",
    "finish=time.perf_counter()\n",
    "print()\n",
    "print(\"Finish Task In {}\".format(finish-start))\n",
    "\n"
   ]
  },
  {
   "cell_type": "markdown",
   "metadata": {},
   "source": [
    "# Image Downloading using Multithreading"
   ]
  },
  {
   "cell_type": "code",
   "execution_count": null,
   "metadata": {},
   "outputs": [],
   "source": [
    "import requests\n",
    "import time\n",
    "import concurrent.futures\n",
    "\n",
    "img_urls = [\n",
    "    'https://images.unsplash.com/photo-1516117172878-fd2c41f4a759',\n",
    "    'https://images.unsplash.com/photo-1532009324734-20a7a5813719',\n",
    "    'https://images.unsplash.com/photo-1524429656589-6633a470097c',\n",
    "    'https://images.unsplash.com/photo-1530224264768-7ff8c1789d79',\n",
    "    'https://images.unsplash.com/photo-1564135624576-c5c88640f235',\n",
    "    'https://images.unsplash.com/photo-1541698444083-023c97d3f4b6',\n",
    "    'https://images.unsplash.com/photo-1522364723953-452d3431c267',\n",
    "    'https://images.unsplash.com/photo-1513938709626-033611b8cc03',\n",
    "    'https://images.unsplash.com/photo-1507143550189-fed454f93097',\n",
    "    'https://images.unsplash.com/photo-1493976040374-85c8e12f0c0e',\n",
    "    'https://images.unsplash.com/photo-1504198453319-5ce911bafcde',\n",
    "    'https://images.unsplash.com/photo-1530122037265-a5f1f91d3b99',\n",
    "    'https://images.unsplash.com/photo-1516972810927-80185027ca84',\n",
    "    'https://images.unsplash.com/photo-1550439062-609e1531270e',\n",
    "    'https://images.unsplash.com/photo-1549692520-acc6669e2f0c'\n",
    "]\n",
    "\n",
    "start = time.perf_counter()\n",
    "\n",
    "for img_url in img_urls:\n",
    "    img_bytes = requests.get(img_url).content\n",
    "    img_name = img_url.split('/')[3]\n",
    "    img_name = f'{img_name}.jpg'\n",
    "    with open(img_name, 'wb') as img_file:\n",
    "        img_file.write(img_bytes)\n",
    "        print(f'{img_name} was downloaded...')\n",
    "\n",
    "finish=time.perf_counter()\n",
    "print()\n",
    "print(\"Finish Task In {}\".format(finish-start))\n"
   ]
  },
  {
   "cell_type": "code",
   "execution_count": null,
   "metadata": {},
   "outputs": [],
   "source": [
    "import requests\n",
    "import time\n",
    "import concurrent.futures\n",
    "\n",
    "img_urls = [\n",
    "    'https://images.unsplash.com/photo-1516117172878-fd2c41f4a759',\n",
    "    'https://images.unsplash.com/photo-1532009324734-20a7a5813719',\n",
    "    'https://images.unsplash.com/photo-1524429656589-6633a470097c',\n",
    "    'https://images.unsplash.com/photo-1530224264768-7ff8c1789d79',\n",
    "    'https://images.unsplash.com/photo-1564135624576-c5c88640f235',\n",
    "    'https://images.unsplash.com/photo-1541698444083-023c97d3f4b6',\n",
    "    'https://images.unsplash.com/photo-1522364723953-452d3431c267',\n",
    "    'https://images.unsplash.com/photo-1513938709626-033611b8cc03',\n",
    "    'https://images.unsplash.com/photo-1507143550189-fed454f93097',\n",
    "    'https://images.unsplash.com/photo-1493976040374-85c8e12f0c0e',\n",
    "    'https://images.unsplash.com/photo-1504198453319-5ce911bafcde',\n",
    "    'https://images.unsplash.com/photo-1530122037265-a5f1f91d3b99',\n",
    "    'https://images.unsplash.com/photo-1516972810927-80185027ca84',\n",
    "    'https://images.unsplash.com/photo-1550439062-609e1531270e',\n",
    "    'https://images.unsplash.com/photo-1549692520-acc6669e2f0c'\n",
    "]\n",
    "\n",
    "start = time.perf_counter()\n",
    "\n",
    "def img_threading(img_url):\n",
    "    img_bytes = requests.get(img_url).content\n",
    "    img_name = img_url.split('/')[3]\n",
    "    img_name = f'{img_name}.jpg'\n",
    "    with open(img_name, 'wb') as img_file:\n",
    "        img_file.write(img_bytes)\n",
    "        print(f'{img_name} was downloaded...')\n",
    "\n",
    "with concurrent.futures.ThreadPoolExecutor() as executor:\n",
    "    executor.map(img_threading,img_urls)\n",
    "       \n",
    "finish=time.perf_counter()\n",
    "print()\n",
    "print(\"Finish Task In {}\".format(finish-start))\n"
   ]
  },
  {
   "cell_type": "markdown",
   "metadata": {},
   "source": [
    "# Multi-Processing\n",
    "\n",
    "## Run code parallel"
   ]
  },
  {
   "cell_type": "code",
   "execution_count": 64,
   "metadata": {},
   "outputs": [
    {
     "name": "stdout",
     "output_type": "stream",
     "text": [
      "Running time 0.3962665819999529\n"
     ]
    }
   ],
   "source": [
    "from multiprocessing import Process\n",
    "import time \n",
    "\n",
    "start=time.perf_counter()\n",
    "\n",
    "def do_something2():\n",
    "    print('Sleeping 1 Second..')\n",
    "    time.sleep(1)\n",
    "    print('Sleeping Done')\n",
    "    \n",
    "p1=Process(target=do_something2)\n",
    "p2=Process(target=do_something2)\n",
    "\n",
    "p1.start()\n",
    "p2.start()\n",
    "\n",
    "p1.join()\n",
    "p2.join()\n",
    "\n",
    "finish=time.perf_counter()\n",
    "print(\"Running time {}\".format(finish-start))\n",
    "\n"
   ]
  },
  {
   "cell_type": "code",
   "execution_count": 72,
   "metadata": {},
   "outputs": [],
   "source": [
    "import concurrent.futures\n",
    "\n",
    "import time \n",
    "\n",
    "start=time.perf_counter()\n",
    "\n",
    "def do_something2():\n",
    "    print('Sleeping 1 Second..')\n",
    "    time.sleep(1)\n",
    "    print('Sleeping Done')\n",
    "\n",
    "    \n",
    "    \n",
    "    "
   ]
  },
  {
   "cell_type": "markdown",
   "metadata": {},
   "source": [
    "# AWS"
   ]
  },
  {
   "cell_type": "code",
   "execution_count": null,
   "metadata": {},
   "outputs": [],
   "source": [
    "# Generate the boto3 client for interacting with S3\n",
    "s3 = boto3.client('s3', region_name='us-east-1', \n",
    "                        # Set up AWS credentials \n",
    "                        aws_access_key_id=AWS_KEY_ID, \n",
    "                         aws_secret_access_key=AWS_SECRET)\n",
    "# List the buckets\n",
    "buckets = s3.list_buckets()\n",
    "\n",
    "# Print the buckets\n",
    "print(buckets)"
   ]
  },
  {
   "cell_type": "code",
   "execution_count": null,
   "metadata": {},
   "outputs": [],
   "source": [
    "# Generate the boto3 client for interacting with S3 and SNS\n",
    "s3 = boto3.client('s3', region_name='us-east-1', \n",
    "                         aws_access_key_id=AWS_KEY_ID, \n",
    "                         aws_secret_access_key=AWS_SECRET)\n",
    "\n",
    "sns = boto3.client('sns', region_name='us-east-1', \n",
    "                         aws_access_key_id=AWS_KEY_ID, \n",
    "                         aws_secret_access_key=AWS_SECRET)\n",
    "\n",
    "# List S3 buckets and SNS topics\n",
    "buckets = s3.list_buckets()\n",
    "topics = sns.list_topics()\n",
    "\n",
    "# Print out the list of SNS topics\n",
    "print(topics)"
   ]
  },
  {
   "cell_type": "markdown",
   "metadata": {},
   "source": [
    "IAM - Used to give access to the users\n",
    "<br>\n",
    "S3-To store data \n",
    "<br>\n",
    "SNS - Send emails and messages as notification\n",
    "<br>\n",
    "Rekognition- Recognise cats,dogs in the images \n",
    "\n",
    "\n",
    "### Bucket Operations\n",
    "\n",
    "1) .create_bucket(Bucket='buck')<br>\n",
    "2) .list_buckets()<br>\n",
    "3) .delete_bucket(Bucket='buck')<br>\n",
    "\n",
    "\n"
   ]
  },
  {
   "cell_type": "code",
   "execution_count": null,
   "metadata": {},
   "outputs": [],
   "source": [
    "# Create a bucket\n",
    "\n",
    "import boto3\n",
    "\n",
    "# Create boto3 client to S3\n",
    "s3 = boto3.client('s3', region_name='us-east-1', \n",
    "                         aws_access_key_id=AWS_KEY_ID, \n",
    "                         aws_secret_access_key=AWS_SECRET)\n",
    "\n",
    "# Create the buckets\n",
    "response_staging = s3.create_bucket(Bucket='gim-staging')\n",
    "response_processed = s3.create_bucket(Bucket='gim-processed')\n",
    "response_test = s3.create_bucket(Bucket='gim-test')\n",
    "\n",
    "# Print out the response\n",
    "print(response_staging)"
   ]
  },
  {
   "cell_type": "code",
   "execution_count": null,
   "metadata": {},
   "outputs": [],
   "source": [
    "# Accesing a bucket\n",
    "\n",
    "# Get the list_buckets response\n",
    "response = s3.list_buckets()\n",
    "\n",
    "# Iterate over Buckets from .list_buckets() response\n",
    "for bucket in response['Buckets']:\n",
    "  \t# Print the Name for each bucket\n",
    "    print(bucket['Name'])"
   ]
  },
  {
   "cell_type": "code",
   "execution_count": null,
   "metadata": {},
   "outputs": [],
   "source": [
    "# Deleting a bucket\n",
    "\n",
    "# Delete the gim-test bucket\n",
    "s3.delete_bucket(Bucket='gim-test')\n",
    "\n",
    "# Get the list_buckets response\n",
    "response = s3.list_buckets()\n",
    "\n",
    "# Print each Buckets Name\n",
    "for bucket in response['Buckets']:\n",
    "    print(bucket['Name'])\n"
   ]
  },
  {
   "cell_type": "code",
   "execution_count": null,
   "metadata": {},
   "outputs": [],
   "source": [
    "# Get the list_buckets response\n",
    "response = s3.list_buckets()\n",
    "\n",
    "# Delete all the buckets with 'gim', create replacements.\n",
    "for bucket in response['Buckets']:\n",
    "  if 'gim' in bucket['Name']:\n",
    "      s3.delete_bucket(Bucket=bucket['Name'])\n",
    "    \n",
    "s3.create_bucket(Bucket='gid-staging')\n",
    "s3.create_bucket(Bucket='gid-processed')\n",
    "  \n",
    "# Print bucket listing after deletion\n",
    "response = s3.list_buckets()\n",
    "for bucket in response['Buckets']:\n",
    "    print(bucket['Name'])"
   ]
  },
  {
   "cell_type": "markdown",
   "metadata": {},
   "source": [
    "#### Putting files in cloud"
   ]
  },
  {
   "cell_type": "code",
   "execution_count": null,
   "metadata": {},
   "outputs": [],
   "source": [
    "# Upload final_report.csv to gid-staging\n",
    "s3.upload_file(Bucket='gid-staging',\n",
    "              # Set filename and key\n",
    "               Filename='final_report.csv', \n",
    "               Key='2019/final_report_01_01.csv')\n",
    "\n",
    "# Get object metadata and print it\n",
    "response = s3.head_object(Bucket='gid-staging', \n",
    "                       Key='2019/final_report_01_01.csv')\n",
    "\n",
    "# Print the size of the uploaded object\n",
    "print(response['ContentLength'])"
   ]
  },
  {
   "cell_type": "code",
   "execution_count": null,
   "metadata": {},
   "outputs": [],
   "source": [
    "# List only objects that start with '2018/final_'\n",
    "response = s3.list_objects(Bucket='gid-staging', \n",
    "                           Prefix='2018/final_')\n",
    "\n",
    "# Iterate over the objects\n",
    "if 'Contents' in response:\n",
    "  for obj in response['Contents']:\n",
    "      # Delete the object\n",
    "      s3.delete_object(Bucket='gid-staging', Key=obj['Key'])\n",
    "\n",
    "# Print the keys of remaining objects in the bucket\n",
    "response = s3.list_objects(Bucket='gid-staging')\n",
    "\n",
    "for obj in response['Contents']:\n",
    "  \tprint(obj['Key'])"
   ]
  },
  {
   "cell_type": "code",
   "execution_count": null,
   "metadata": {},
   "outputs": [],
   "source": []
  }
 ],
 "metadata": {
  "kernelspec": {
   "display_name": "Python 3",
   "language": "python",
   "name": "python3"
  },
  "language_info": {
   "codemirror_mode": {
    "name": "ipython",
    "version": 3
   },
   "file_extension": ".py",
   "mimetype": "text/x-python",
   "name": "python",
   "nbconvert_exporter": "python",
   "pygments_lexer": "ipython3",
   "version": "3.7.1"
  }
 },
 "nbformat": 4,
 "nbformat_minor": 2
}
