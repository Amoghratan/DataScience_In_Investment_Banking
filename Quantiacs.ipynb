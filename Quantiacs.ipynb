{
 "cells": [
  {
   "cell_type": "markdown",
   "metadata": {},
   "source": [
    "# Quantiacs\n",
    "\n",
    "### Solution 1\n",
    "Using Itertools"
   ]
  },
  {
   "cell_type": "code",
   "execution_count": 1,
   "metadata": {},
   "outputs": [
    {
     "name": "stdout",
     "output_type": "stream",
     "text": [
      "*** 1 ***\n",
      "[['a', 'c', 'd'], ['a', 'c', 'e'], ['a', 'c', 'f'], ['b', 'c', 'd'], ['b', 'c', 'e'], ['b', 'c', 'f']]\n",
      "*** 1 ***\n",
      "[['j', 'u', 'z'], ['j', 'u', 'a'], ['j', 'l', 'z'], ['j', 'l', 'a'], ['j', 'o', 'z'], ['j', 'o', 'a'], ['j', 'q', 'z'], ['j', 'q', 'a'], ['c', 'u', 'z'], ['c', 'u', 'a'], ['c', 'l', 'z'], ['c', 'l', 'a'], ['c', 'o', 'z'], ['c', 'o', 'a'], ['c', 'q', 'z'], ['c', 'q', 'a']]\n"
     ]
    }
   ],
   "source": [
    "import itertools\n",
    "\n",
    "def quantiacs_func(list_ele):\n",
    "    l=list(itertools.product(*list_ele))\n",
    "    l = [list(elem) for elem in l]\n",
    "    return(l)\n",
    "\n",
    "print(\"*** 1 ***\")\n",
    "print(quantiacs_func([['a', 'b'], ['c'], ['d', 'e', 'f']]))\n",
    "\n",
    "print(\"*** 1 ***\")\n",
    "print(quantiacs_func([['j','c'],['u','l','o','q'],['z','a']]))\n"
   ]
  },
  {
   "cell_type": "markdown",
   "metadata": {},
   "source": [
    "### Solution 2\n",
    "Using Numpy"
   ]
  },
  {
   "cell_type": "code",
   "execution_count": 3,
   "metadata": {},
   "outputs": [
    {
     "name": "stdout",
     "output_type": "stream",
     "text": [
      "*** 2 ***\n",
      "[['a', 'c', 'd'], ['b', 'c', 'd'], ['a', 'c', 'e'], ['b', 'c', 'e'], ['a', 'c', 'f'], ['b', 'c', 'f']]\n",
      "*** 2 ***\n",
      "[['j', 'u', 'z'], ['j', 'l', 'z'], ['j', 'o', 'z'], ['j', 'q', 'z'], ['c', 'u', 'z'], ['c', 'l', 'z'], ['c', 'o', 'z'], ['c', 'q', 'z'], ['j', 'u', 'a'], ['j', 'l', 'a'], ['j', 'o', 'a'], ['j', 'q', 'a'], ['c', 'u', 'a'], ['c', 'l', 'a'], ['c', 'o', 'a'], ['c', 'q', 'a']]\n"
     ]
    }
   ],
   "source": [
    "import numpy as np\n",
    "def quantiacs_func_2(list_ele):\n",
    "    l=[list(k) for k in np.array(np.meshgrid(*list_ele)).T.reshape(-1,len(list_ele))]\n",
    "    return l\n",
    "\n",
    "print(\"*** 2 ***\")\n",
    "print(quantiacs_func_2([['a', 'b'], ['c'], ['d', 'e', 'f']]))\n",
    "\n",
    "print(\"*** 2 ***\")\n",
    "print(quantiacs_func_2([['j','c'],['u','l','o','q'],['z','a']]))\n",
    "\n"
   ]
  },
  {
   "cell_type": "markdown",
   "metadata": {},
   "source": [
    "### Solution 3\n",
    "Using Recursion"
   ]
  },
  {
   "cell_type": "code",
   "execution_count": 2,
   "metadata": {},
   "outputs": [
    {
     "name": "stdout",
     "output_type": "stream",
     "text": [
      "*** 3 ***\n",
      "[['a', 'c', 'd'], ['a', 'c', 'e'], ['a', 'c', 'f'], ['b', 'c', 'd'], ['b', 'c', 'e'], ['b', 'c', 'f']]\n",
      "*** 3 ***\n",
      "[['j', 'u', 'z'], ['j', 'u', 'a'], ['j', 'l', 'z'], ['j', 'l', 'a'], ['j', 'o', 'z'], ['j', 'o', 'a'], ['j', 'q', 'z'], ['j', 'q', 'a'], ['c', 'u', 'z'], ['c', 'u', 'a'], ['c', 'l', 'z'], ['c', 'l', 'a'], ['c', 'o', 'z'], ['c', 'o', 'a'], ['c', 'q', 'z'], ['c', 'q', 'a']]\n"
     ]
    }
   ],
   "source": [
    "def quantiacs_func_3(list_ele):\n",
    "    if len(list_ele)==1:\n",
    "        return list_ele[0]\n",
    "    else:   \n",
    "        l=[]\n",
    "        for i in list_ele[0]:\n",
    "            for j in quantiacs_func_3(list_ele[1:]):\n",
    "                l.append(list(i)+list(j))\n",
    "        return l\n",
    "\n",
    "print(\"*** 3 ***\")\n",
    "print(quantiacs_func_3([['a', 'b'], ['c'], ['d', 'e', 'f']]))\n",
    "\n",
    "print(\"*** 3 ***\")\n",
    "print(quantiacs_func_3([['j','c'],['u','l','o','q'],['z','a']]))\n"
   ]
  }
 ],
 "metadata": {
  "kernelspec": {
   "display_name": "Python 3",
   "language": "python",
   "name": "python3"
  },
  "language_info": {
   "codemirror_mode": {
    "name": "ipython",
    "version": 3
   },
   "file_extension": ".py",
   "mimetype": "text/x-python",
   "name": "python",
   "nbconvert_exporter": "python",
   "pygments_lexer": "ipython3",
   "version": "3.6.8"
  }
 },
 "nbformat": 4,
 "nbformat_minor": 2
}
