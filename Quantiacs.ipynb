{
 "cells": [
  {
   "cell_type": "markdown",
   "metadata": {},
   "source": [
    "# Quantiacs"
   ]
  },
  {
   "cell_type": "markdown",
   "metadata": {},
   "source": [
    "### New Problem"
   ]
  },
  {
   "cell_type": "code",
   "execution_count": null,
   "metadata": {},
   "outputs": [],
   "source": [
    "X.0 = 0\n",
    "X.1 = X"
   ]
  },
  {
   "cell_type": "markdown",
   "metadata": {},
   "source": [
    "From a mathematical point of view the product over no elements should yield the neutral element of the operation product, whatever that is.\n",
    "\n",
    "For example on integers the neutral element of multiplication is 1, since 1 ⋅ a = a for all integers a. So an empty product of integers should be 1. When implementing a python function that returns the product of a list of numbers, this happens naturally:"
   ]
  },
  {
   "cell_type": "code",
   "execution_count": null,
   "metadata": {},
   "outputs": [],
   "source": [
    "def iproduct(lst):\n",
    "  result = 1\n",
    "  for i in lst:\n",
    "    result *= i\n",
    "  return result"
   ]
  },
  {
   "cell_type": "markdown",
   "metadata": {},
   "source": [
    "For the correct result to be calculated with this algorithm, result needs to be initialized with 1. This leads to a return value of 1 when the function is called on an empty list.\n",
    "\n",
    "This return value is also very reasonable for the purpose of the function. With a good product function it shouldn't matter if you first concat two lists and then build the product of the elements, or if you first build the product of both individual lists and then multiply the results"
   ]
  },
  {
   "cell_type": "markdown",
   "metadata": {},
   "source": [
    "### Nullary categorical product \n",
    "##### (Src Wikipedia)\n",
    "<i>\n",
    "In any category, the product of an empty family is a terminal object of that category. This can be demonstrated by using the limit definition of the product. An n-fold categorical product can be defined as the limit with respect to a diagram given by the discrete category with n objects. An empty product is then given by the limit with respect to the empty category, which is the terminal object of the category if it exists. This definition specializes to give results as above. For example, in the category of sets the categorical product is the usual Cartesian product, and the terminal object is a singleton set. In the category of groups the categorical product is the Cartesian product of groups, and the terminal object is a trivial group with one element. To obtain the usual arithmetic definition of the empty product we must take the decategorification of the empty product in the category of finite sets.\n",
    "\n",
    "Dually, the coproduct of an empty family is an initial object. Nullary categorical products or coproducts may not exist in a given category; e.g. in the category of fields, neither exists\n",
    "\n",
    "</i>"
   ]
  },
  {
   "cell_type": "markdown",
   "metadata": {},
   "source": [
    "### New Solution\n",
    "\n",
    "The work around is to check the condition before handling. I am removing the sub-list which is empty and raising a print statement. \n",
    "\n",
    "The thinkgin behind it that we assume the missing list is <b>1</b> rather than <b>0</b>.\n",
    "\n",
    "I was hoping if I could find a more pythonic way to handle it"
   ]
  },
  {
   "cell_type": "code",
   "execution_count": 43,
   "metadata": {},
   "outputs": [
    {
     "name": "stdout",
     "output_type": "stream",
     "text": [
      "Case 1\n",
      "Empty Sub Lists/Lists Not Allowed, Removing Them\n",
      "[['a', 'd'], ['a', 'e'], ['a', 'f'], ['b', 'd'], ['b', 'e'], ['b', 'f']]\n",
      "\n",
      "Case 2\n",
      "Empty Sub Lists/Lists Not Allowed, Removing Them\n",
      "[['a'], ['b']]\n",
      "\n",
      "Case 3\n",
      "[['a', 'j', 'd'], ['a', 'j', 'e'], ['a', 'j', 'f'], ['b', 'j', 'd'], ['b', 'j', 'e'], ['b', 'j', 'f']]\n",
      "\n",
      "Case 4\n",
      "Empty Sub Lists/Lists Not Allowed, Removing Them\n",
      "[[]]\n",
      "\n",
      "Case 5\n",
      "Empty Sub Lists/Lists Not Allowed, Removing Them\n",
      "[[]]\n",
      "\n"
     ]
    }
   ],
   "source": [
    "import itertools\n",
    "\n",
    "def solution_v2(list_ele):\n",
    "    # Check and remove if the list has an empty sub list\n",
    "    list_ele2 = [x for x in list_ele if x != []]\n",
    "    \n",
    "    # Raise a flag if empty list was found\n",
    "    if len(list_ele2)< len(list_ele) or len(list_ele)==0:\n",
    "        print('Empty Sub Lists/Lists Not Allowed, Removing Them')\n",
    "        \n",
    "    # Perform Itertools on edited list\n",
    "    l=list(itertools.product(*list_ele2))\n",
    "    l = [list(elem) for elem in l]\n",
    "    \n",
    "    return l\n",
    "\n",
    "    \n",
    "list_ele=[['a', 'b'], [], ['d', 'e', 'f']]    \n",
    "print(\"Case 1\")\n",
    "print(solution_v2(list_ele))\n",
    "print()\n",
    "\n",
    "list_ele=[['a', 'b'], [], []]    \n",
    "print(\"Case 2\")\n",
    "print(solution_v2(list_ele))\n",
    "print()\n",
    "\n",
    "list_ele=[['a', 'b'], ['j'], ['d', 'e', 'f']]    \n",
    "print(\"Case 3\")\n",
    "print(solution_v2(list_ele))\n",
    "print()\n",
    "\n",
    "list_ele=[]    \n",
    "print(\"Case 4\")\n",
    "print(solution_v2(list_ele))\n",
    "print()\n",
    "\n",
    "list_ele=[[],[],[]]    \n",
    "print(\"Case 5\")\n",
    "print(solution_v2(list_ele))\n",
    "print()"
   ]
  },
  {
   "cell_type": "markdown",
   "metadata": {},
   "source": [
    "\n",
    "### Solution 1\n",
    "Using Itertools"
   ]
  },
  {
   "cell_type": "code",
   "execution_count": 26,
   "metadata": {},
   "outputs": [
    {
     "name": "stdout",
     "output_type": "stream",
     "text": [
      "*** 1 ***\n",
      "[]\n"
     ]
    }
   ],
   "source": [
    "import itertools\n",
    "\n",
    "def quantiacs_func(list_ele):\n",
    "    l=list(itertools.product(*list_ele))\n",
    "    l = [list(elem) for elem in l]\n",
    "    return(l)\n",
    "\n",
    "print(\"*** 1 ***\")\n",
    "print(quantiacs_func([['a', 'b'], [], ['d', 'e', 'f']]))\n",
    "\n",
    "### print(\"*** 1 ***\")\n",
    "### print(quantiacs_func([['j','c'],['u','l','o','q'],['z','a']]))\n"
   ]
  },
  {
   "cell_type": "markdown",
   "metadata": {},
   "source": [
    "### Solution 2\n",
    "Using Numpy"
   ]
  },
  {
   "cell_type": "code",
   "execution_count": null,
   "metadata": {},
   "outputs": [],
   "source": [
    "import numpy as np\n",
    "def quantiacs_func_2(list_ele):\n",
    "    l=[list(k) for k in np.array(np.meshgrid(*list_ele)).T.reshape(-1,len(list_ele))]\n",
    "    return l\n",
    "\n",
    "print(\"*** 2 ***\")\n",
    "print(quantiacs_func_2([['a', 'b'], ['c'], ['d', 'e', 'f']]))\n",
    "\n",
    "print(\"*** 2 ***\")\n",
    "print(quantiacs_func_2([['j','c'],['u','l','o','q'],['z','a']]))\n",
    "\n"
   ]
  },
  {
   "cell_type": "markdown",
   "metadata": {},
   "source": [
    "### Solution 3\n",
    "Using Recursion"
   ]
  },
  {
   "cell_type": "code",
   "execution_count": null,
   "metadata": {},
   "outputs": [],
   "source": [
    "def quantiacs_func_3(list_ele):\n",
    "    if len(list_ele)==1:\n",
    "        return list_ele[0]\n",
    "    else:   \n",
    "        l=[]\n",
    "        for i in list_ele[0]:\n",
    "            for j in quantiacs_func_3(list_ele[1:]):\n",
    "                l.append(list(i)+list(j))\n",
    "        return l\n",
    "\n",
    "print(\"*** 3 ***\")\n",
    "print(quantiacs_func_3([['a', 'b'], [], ['d', 'e', 'f']]))\n",
    "\n",
    "\n",
    "### print(\"*** 3 ***\")\n",
    "### print(quantiacs_func_3([['j','c'],['u','l','o','q'],['z','a']]))\n"
   ]
  }
 ],
 "metadata": {
  "kernelspec": {
   "display_name": "Python 3",
   "language": "python",
   "name": "python3"
  },
  "language_info": {
   "codemirror_mode": {
    "name": "ipython",
    "version": 3
   },
   "file_extension": ".py",
   "mimetype": "text/x-python",
   "name": "python",
   "nbconvert_exporter": "python",
   "pygments_lexer": "ipython3",
   "version": "3.6.8"
  }
 },
 "nbformat": 4,
 "nbformat_minor": 2
}
