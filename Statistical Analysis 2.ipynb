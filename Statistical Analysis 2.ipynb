{
 "cells": [
  {
   "cell_type": "markdown",
   "metadata": {},
   "source": [
    "# Statistical Analysis - 2\n",
    "\n",
    "## Step 1 - Optimizing parameters"
   ]
  },
  {
   "cell_type": "code",
   "execution_count": 26,
   "metadata": {},
   "outputs": [],
   "source": [
    "import pandas as pd\n",
    "import numpy as np\n",
    "import matplotlib.pyplot as plt"
   ]
  },
  {
   "cell_type": "markdown",
   "metadata": {},
   "source": [
    "### Linear Regression \n",
    "\n",
    "Using Linear regression to analyze relation between fertility and female literacy"
   ]
  },
  {
   "cell_type": "code",
   "execution_count": 27,
   "metadata": {},
   "outputs": [
    {
     "name": "stdout",
     "output_type": "stream",
     "text": [
      "    Country  Continent  female literacy  fertility     population  \\\n",
      "0      Chine       ASI             90.5      1.769  1,324,655,000   \n",
      "1       Inde       ASI             50.8      2.682  1,139,964,932   \n",
      "2        USA       NAM             99.0      2.077    304,060,000   \n",
      "3  Indonésie       ASI             88.8      2.132    227,345,082   \n",
      "4     Brésil       LAT             90.2      1.827    191,971,506   \n",
      "\n",
      "   illiterate percent  \n",
      "0                 9.5  \n",
      "1                49.2  \n",
      "2                 1.0  \n",
      "3                11.2  \n",
      "4                 9.8  \n"
     ]
    }
   ],
   "source": [
    "female_fertility=pd.read_csv(\"data/female_literacy_fertility.csv\")\n",
    "female_fertility['illiterate percent']=100-female_fertility['female literacy']\n",
    "print(female_fertility.head(5))"
   ]
  },
  {
   "cell_type": "code",
   "execution_count": 28,
   "metadata": {},
   "outputs": [
    {
     "name": "stdout",
     "output_type": "stream",
     "text": [
      "High Correlation between illiteracy and number of kids they have\n",
      "0.8041324026815343\n",
      "\n",
      "********\n",
      "slope = 0.04979854809063423 children per woman / percent illiterate\n",
      "intercept = 1.888050610636557 children per woman\n"
     ]
    },
    {
     "data": {
      "image/png": "[encoded data removed]",
      "text/plain": [
       "<Figure size 432x288 with 1 Axes>"
      ]
     },
     "metadata": {
      "needs_background": "light"
     },
     "output_type": "display_data"
    }
   ],
   "source": [
    "fertility=female_fertility['fertility']\n",
    "illiteracy=female_fertility['illiterate percent']\n",
    "\n",
    "print(\"High Correlation between illiteracy and number of kids they have\")\n",
    "\n",
    "print(np.corrcoef(fertility,illiteracy)[0,1])\n",
    "print()\n",
    "print(\"********\")\n",
    "\n",
    "# Plot the illiteracy rate versus fertility\n",
    "_ = plt.plot(illiteracy, fertility, marker='.', linestyle='none')\n",
    "plt.margins(0.02)\n",
    "_ = plt.xlabel('percent illiterate')\n",
    "_ = plt.ylabel('fertility')\n",
    "\n",
    "# Perform a linear regression using np.polyfit(): a, b\n",
    "a, b = np.polyfit(illiteracy,fertility,1)\n",
    "\n",
    "# Print the results to the screen\n",
    "print('slope =', a, 'children per woman / percent illiterate')\n",
    "print('intercept =', b, 'children per woman')\n",
    "\n",
    "# Make theoretical line to plot\n",
    "x = np.array([0,100])\n",
    "y = np.array(x * a + b)\n",
    "\n",
    "# Add regression line to your plot\n",
    "_ = plt.plot(x, y)\n",
    "\n",
    "# Draw the plot\n",
    "plt.show()"
   ]
  },
  {
   "cell_type": "code",
   "execution_count": null,
   "metadata": {},
   "outputs": [],
   "source": []
  }
 ],
 "metadata": {
  "kernelspec": {
   "display_name": "Python 3",
   "language": "python",
   "name": "python3"
  },
  "language_info": {
   "codemirror_mode": {
    "name": "ipython",
    "version": 3
   },
   "file_extension": ".py",
   "mimetype": "text/x-python",
   "name": "python",
   "nbconvert_exporter": "python",
   "pygments_lexer": "ipython3",
   "version": "3.6.8"
  }
 },
 "nbformat": 4,
 "nbformat_minor": 2
}
